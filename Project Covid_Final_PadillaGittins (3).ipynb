{
 "cells": [
  {
   "cell_type": "markdown",
   "metadata": {},
   "source": [
    "# Goal: Predict total COVID cases"
   ]
  },
  {
   "cell_type": "code",
   "execution_count": 1187,
   "metadata": {},
   "outputs": [],
   "source": [
    "import pandas as pd\n",
    "import numpy as np\n",
    "import matplotlib.pyplot as plt\n",
    "import seaborn as sns\n",
    "%matplotlib inline"
   ]
  },
  {
   "cell_type": "code",
   "execution_count": 1188,
   "metadata": {},
   "outputs": [],
   "source": [
    "data = pd.read_csv('worldmeter_data.csv')"
   ]
  },
  {
   "cell_type": "code",
   "execution_count": 1189,
   "metadata": {},
   "outputs": [
    {
     "data": {
      "text/html": [
       "<div>\n",
       "<style scoped>\n",
       "    .dataframe tbody tr th:only-of-type {\n",
       "        vertical-align: middle;\n",
       "    }\n",
       "\n",
       "    .dataframe tbody tr th {\n",
       "        vertical-align: top;\n",
       "    }\n",
       "\n",
       "    .dataframe thead th {\n",
       "        text-align: right;\n",
       "    }\n",
       "</style>\n",
       "<table border=\"1\" class=\"dataframe\">\n",
       "  <thead>\n",
       "    <tr style=\"text-align: right;\">\n",
       "      <th></th>\n",
       "      <th>Country/Region</th>\n",
       "      <th>Continent</th>\n",
       "      <th>Population</th>\n",
       "      <th>TotalCases</th>\n",
       "      <th>NewCases</th>\n",
       "      <th>TotalDeaths</th>\n",
       "      <th>NewDeaths</th>\n",
       "      <th>TotalRecovered</th>\n",
       "      <th>NewRecovered</th>\n",
       "      <th>ActiveCases</th>\n",
       "      <th>Serious,Critical</th>\n",
       "      <th>Tot Cases/1M pop</th>\n",
       "      <th>Deaths/1M pop</th>\n",
       "      <th>TotalTests</th>\n",
       "      <th>Tests/1M pop</th>\n",
       "      <th>WHO Region</th>\n",
       "    </tr>\n",
       "  </thead>\n",
       "  <tbody>\n",
       "    <tr>\n",
       "      <th>0</th>\n",
       "      <td>USA</td>\n",
       "      <td>North America</td>\n",
       "      <td>3.311981e+08</td>\n",
       "      <td>5032179</td>\n",
       "      <td>NaN</td>\n",
       "      <td>162804.0</td>\n",
       "      <td>NaN</td>\n",
       "      <td>2576668.0</td>\n",
       "      <td>NaN</td>\n",
       "      <td>2292707.0</td>\n",
       "      <td>18296.0</td>\n",
       "      <td>15194.0</td>\n",
       "      <td>492.0</td>\n",
       "      <td>63139605.0</td>\n",
       "      <td>190640.0</td>\n",
       "      <td>Americas</td>\n",
       "    </tr>\n",
       "    <tr>\n",
       "      <th>1</th>\n",
       "      <td>Brazil</td>\n",
       "      <td>South America</td>\n",
       "      <td>2.127107e+08</td>\n",
       "      <td>2917562</td>\n",
       "      <td>NaN</td>\n",
       "      <td>98644.0</td>\n",
       "      <td>NaN</td>\n",
       "      <td>2047660.0</td>\n",
       "      <td>NaN</td>\n",
       "      <td>771258.0</td>\n",
       "      <td>8318.0</td>\n",
       "      <td>13716.0</td>\n",
       "      <td>464.0</td>\n",
       "      <td>13206188.0</td>\n",
       "      <td>62085.0</td>\n",
       "      <td>Americas</td>\n",
       "    </tr>\n",
       "    <tr>\n",
       "      <th>2</th>\n",
       "      <td>India</td>\n",
       "      <td>Asia</td>\n",
       "      <td>1.381345e+09</td>\n",
       "      <td>2025409</td>\n",
       "      <td>NaN</td>\n",
       "      <td>41638.0</td>\n",
       "      <td>NaN</td>\n",
       "      <td>1377384.0</td>\n",
       "      <td>NaN</td>\n",
       "      <td>606387.0</td>\n",
       "      <td>8944.0</td>\n",
       "      <td>1466.0</td>\n",
       "      <td>30.0</td>\n",
       "      <td>22149351.0</td>\n",
       "      <td>16035.0</td>\n",
       "      <td>South-EastAsia</td>\n",
       "    </tr>\n",
       "    <tr>\n",
       "      <th>3</th>\n",
       "      <td>Russia</td>\n",
       "      <td>Europe</td>\n",
       "      <td>1.459409e+08</td>\n",
       "      <td>871894</td>\n",
       "      <td>NaN</td>\n",
       "      <td>14606.0</td>\n",
       "      <td>NaN</td>\n",
       "      <td>676357.0</td>\n",
       "      <td>NaN</td>\n",
       "      <td>180931.0</td>\n",
       "      <td>2300.0</td>\n",
       "      <td>5974.0</td>\n",
       "      <td>100.0</td>\n",
       "      <td>29716907.0</td>\n",
       "      <td>203623.0</td>\n",
       "      <td>Europe</td>\n",
       "    </tr>\n",
       "    <tr>\n",
       "      <th>4</th>\n",
       "      <td>South Africa</td>\n",
       "      <td>Africa</td>\n",
       "      <td>5.938157e+07</td>\n",
       "      <td>538184</td>\n",
       "      <td>NaN</td>\n",
       "      <td>9604.0</td>\n",
       "      <td>NaN</td>\n",
       "      <td>387316.0</td>\n",
       "      <td>NaN</td>\n",
       "      <td>141264.0</td>\n",
       "      <td>539.0</td>\n",
       "      <td>9063.0</td>\n",
       "      <td>162.0</td>\n",
       "      <td>3149807.0</td>\n",
       "      <td>53044.0</td>\n",
       "      <td>Africa</td>\n",
       "    </tr>\n",
       "  </tbody>\n",
       "</table>\n",
       "</div>"
      ],
      "text/plain": [
       "  Country/Region      Continent    Population  TotalCases  NewCases  \\\n",
       "0            USA  North America  3.311981e+08     5032179       NaN   \n",
       "1         Brazil  South America  2.127107e+08     2917562       NaN   \n",
       "2          India           Asia  1.381345e+09     2025409       NaN   \n",
       "3         Russia         Europe  1.459409e+08      871894       NaN   \n",
       "4   South Africa         Africa  5.938157e+07      538184       NaN   \n",
       "\n",
       "   TotalDeaths  NewDeaths  TotalRecovered  NewRecovered  ActiveCases  \\\n",
       "0     162804.0        NaN       2576668.0           NaN    2292707.0   \n",
       "1      98644.0        NaN       2047660.0           NaN     771258.0   \n",
       "2      41638.0        NaN       1377384.0           NaN     606387.0   \n",
       "3      14606.0        NaN        676357.0           NaN     180931.0   \n",
       "4       9604.0        NaN        387316.0           NaN     141264.0   \n",
       "\n",
       "   Serious,Critical  Tot Cases/1M pop  Deaths/1M pop  TotalTests  \\\n",
       "0           18296.0           15194.0          492.0  63139605.0   \n",
       "1            8318.0           13716.0          464.0  13206188.0   \n",
       "2            8944.0            1466.0           30.0  22149351.0   \n",
       "3            2300.0            5974.0          100.0  29716907.0   \n",
       "4             539.0            9063.0          162.0   3149807.0   \n",
       "\n",
       "   Tests/1M pop      WHO Region  \n",
       "0      190640.0        Americas  \n",
       "1       62085.0        Americas  \n",
       "2       16035.0  South-EastAsia  \n",
       "3      203623.0          Europe  \n",
       "4       53044.0          Africa  "
      ]
     },
     "execution_count": 1189,
     "metadata": {},
     "output_type": "execute_result"
    }
   ],
   "source": [
    "data.head()"
   ]
  },
  {
   "cell_type": "code",
   "execution_count": 1190,
   "metadata": {},
   "outputs": [
    {
     "name": "stdout",
     "output_type": "stream",
     "text": [
      "<class 'pandas.core.frame.DataFrame'>\n",
      "RangeIndex: 209 entries, 0 to 208\n",
      "Data columns (total 16 columns):\n",
      " #   Column            Non-Null Count  Dtype  \n",
      "---  ------            --------------  -----  \n",
      " 0   Country/Region    209 non-null    object \n",
      " 1   Continent         208 non-null    object \n",
      " 2   Population        208 non-null    float64\n",
      " 3   TotalCases        209 non-null    int64  \n",
      " 4   NewCases          4 non-null      float64\n",
      " 5   TotalDeaths       188 non-null    float64\n",
      " 6   NewDeaths         3 non-null      float64\n",
      " 7   TotalRecovered    205 non-null    float64\n",
      " 8   NewRecovered      3 non-null      float64\n",
      " 9   ActiveCases       205 non-null    float64\n",
      " 10  Serious,Critical  122 non-null    float64\n",
      " 11  Tot Cases/1M pop  208 non-null    float64\n",
      " 12  Deaths/1M pop     187 non-null    float64\n",
      " 13  TotalTests        191 non-null    float64\n",
      " 14  Tests/1M pop      191 non-null    float64\n",
      " 15  WHO Region        184 non-null    object \n",
      "dtypes: float64(12), int64(1), object(3)\n",
      "memory usage: 26.2+ KB\n"
     ]
    }
   ],
   "source": [
    "data.info()  "
   ]
  },
  {
   "cell_type": "code",
   "execution_count": 1191,
   "metadata": {},
   "outputs": [
    {
     "data": {
      "text/html": [
       "<div>\n",
       "<style scoped>\n",
       "    .dataframe tbody tr th:only-of-type {\n",
       "        vertical-align: middle;\n",
       "    }\n",
       "\n",
       "    .dataframe tbody tr th {\n",
       "        vertical-align: top;\n",
       "    }\n",
       "\n",
       "    .dataframe thead th {\n",
       "        text-align: right;\n",
       "    }\n",
       "</style>\n",
       "<table border=\"1\" class=\"dataframe\">\n",
       "  <thead>\n",
       "    <tr style=\"text-align: right;\">\n",
       "      <th></th>\n",
       "      <th>Population</th>\n",
       "      <th>TotalCases</th>\n",
       "      <th>NewCases</th>\n",
       "      <th>TotalDeaths</th>\n",
       "      <th>NewDeaths</th>\n",
       "      <th>TotalRecovered</th>\n",
       "      <th>NewRecovered</th>\n",
       "      <th>ActiveCases</th>\n",
       "      <th>Serious,Critical</th>\n",
       "      <th>Tot Cases/1M pop</th>\n",
       "      <th>Deaths/1M pop</th>\n",
       "      <th>TotalTests</th>\n",
       "      <th>Tests/1M pop</th>\n",
       "    </tr>\n",
       "  </thead>\n",
       "  <tbody>\n",
       "    <tr>\n",
       "      <th>count</th>\n",
       "      <td>2.080000e+02</td>\n",
       "      <td>2.090000e+02</td>\n",
       "      <td>4.000000</td>\n",
       "      <td>188.000000</td>\n",
       "      <td>3.000000</td>\n",
       "      <td>2.050000e+02</td>\n",
       "      <td>3.000000</td>\n",
       "      <td>2.050000e+02</td>\n",
       "      <td>122.000000</td>\n",
       "      <td>208.000000</td>\n",
       "      <td>187.000000</td>\n",
       "      <td>1.910000e+02</td>\n",
       "      <td>191.000000</td>\n",
       "    </tr>\n",
       "    <tr>\n",
       "      <th>mean</th>\n",
       "      <td>3.041549e+07</td>\n",
       "      <td>9.171850e+04</td>\n",
       "      <td>1980.500000</td>\n",
       "      <td>3792.590426</td>\n",
       "      <td>300.000000</td>\n",
       "      <td>5.887898e+04</td>\n",
       "      <td>1706.000000</td>\n",
       "      <td>2.766433e+04</td>\n",
       "      <td>534.393443</td>\n",
       "      <td>3196.024038</td>\n",
       "      <td>98.681176</td>\n",
       "      <td>1.402405e+06</td>\n",
       "      <td>83959.366492</td>\n",
       "    </tr>\n",
       "    <tr>\n",
       "      <th>std</th>\n",
       "      <td>1.047661e+08</td>\n",
       "      <td>4.325867e+05</td>\n",
       "      <td>3129.611424</td>\n",
       "      <td>15487.184877</td>\n",
       "      <td>451.199512</td>\n",
       "      <td>2.566984e+05</td>\n",
       "      <td>2154.779803</td>\n",
       "      <td>1.746327e+05</td>\n",
       "      <td>2047.518613</td>\n",
       "      <td>5191.986457</td>\n",
       "      <td>174.956862</td>\n",
       "      <td>5.553367e+06</td>\n",
       "      <td>152730.591240</td>\n",
       "    </tr>\n",
       "    <tr>\n",
       "      <th>min</th>\n",
       "      <td>8.010000e+02</td>\n",
       "      <td>1.000000e+01</td>\n",
       "      <td>20.000000</td>\n",
       "      <td>1.000000</td>\n",
       "      <td>1.000000</td>\n",
       "      <td>7.000000e+00</td>\n",
       "      <td>42.000000</td>\n",
       "      <td>0.000000e+00</td>\n",
       "      <td>1.000000</td>\n",
       "      <td>3.000000</td>\n",
       "      <td>0.080000</td>\n",
       "      <td>6.100000e+01</td>\n",
       "      <td>4.000000</td>\n",
       "    </tr>\n",
       "    <tr>\n",
       "      <th>25%</th>\n",
       "      <td>9.663140e+05</td>\n",
       "      <td>7.120000e+02</td>\n",
       "      <td>27.500000</td>\n",
       "      <td>22.000000</td>\n",
       "      <td>40.500000</td>\n",
       "      <td>3.340000e+02</td>\n",
       "      <td>489.000000</td>\n",
       "      <td>8.600000e+01</td>\n",
       "      <td>3.250000</td>\n",
       "      <td>282.000000</td>\n",
       "      <td>6.000000</td>\n",
       "      <td>2.575200e+04</td>\n",
       "      <td>8956.500000</td>\n",
       "    </tr>\n",
       "    <tr>\n",
       "      <th>50%</th>\n",
       "      <td>7.041972e+06</td>\n",
       "      <td>4.491000e+03</td>\n",
       "      <td>656.000000</td>\n",
       "      <td>113.000000</td>\n",
       "      <td>80.000000</td>\n",
       "      <td>2.178000e+03</td>\n",
       "      <td>936.000000</td>\n",
       "      <td>8.990000e+02</td>\n",
       "      <td>27.500000</td>\n",
       "      <td>1015.000000</td>\n",
       "      <td>29.000000</td>\n",
       "      <td>1.357020e+05</td>\n",
       "      <td>32585.000000</td>\n",
       "    </tr>\n",
       "    <tr>\n",
       "      <th>75%</th>\n",
       "      <td>2.575614e+07</td>\n",
       "      <td>3.689600e+04</td>\n",
       "      <td>2609.000000</td>\n",
       "      <td>786.000000</td>\n",
       "      <td>449.500000</td>\n",
       "      <td>2.055300e+04</td>\n",
       "      <td>2538.000000</td>\n",
       "      <td>7.124000e+03</td>\n",
       "      <td>160.250000</td>\n",
       "      <td>3841.750000</td>\n",
       "      <td>98.000000</td>\n",
       "      <td>7.576960e+05</td>\n",
       "      <td>92154.500000</td>\n",
       "    </tr>\n",
       "    <tr>\n",
       "      <th>max</th>\n",
       "      <td>1.381345e+09</td>\n",
       "      <td>5.032179e+06</td>\n",
       "      <td>6590.000000</td>\n",
       "      <td>162804.000000</td>\n",
       "      <td>819.000000</td>\n",
       "      <td>2.576668e+06</td>\n",
       "      <td>4140.000000</td>\n",
       "      <td>2.292707e+06</td>\n",
       "      <td>18296.000000</td>\n",
       "      <td>39922.000000</td>\n",
       "      <td>1238.000000</td>\n",
       "      <td>6.313960e+07</td>\n",
       "      <td>995282.000000</td>\n",
       "    </tr>\n",
       "  </tbody>\n",
       "</table>\n",
       "</div>"
      ],
      "text/plain": [
       "         Population    TotalCases     NewCases    TotalDeaths   NewDeaths  \\\n",
       "count  2.080000e+02  2.090000e+02     4.000000     188.000000    3.000000   \n",
       "mean   3.041549e+07  9.171850e+04  1980.500000    3792.590426  300.000000   \n",
       "std    1.047661e+08  4.325867e+05  3129.611424   15487.184877  451.199512   \n",
       "min    8.010000e+02  1.000000e+01    20.000000       1.000000    1.000000   \n",
       "25%    9.663140e+05  7.120000e+02    27.500000      22.000000   40.500000   \n",
       "50%    7.041972e+06  4.491000e+03   656.000000     113.000000   80.000000   \n",
       "75%    2.575614e+07  3.689600e+04  2609.000000     786.000000  449.500000   \n",
       "max    1.381345e+09  5.032179e+06  6590.000000  162804.000000  819.000000   \n",
       "\n",
       "       TotalRecovered  NewRecovered   ActiveCases  Serious,Critical  \\\n",
       "count    2.050000e+02      3.000000  2.050000e+02        122.000000   \n",
       "mean     5.887898e+04   1706.000000  2.766433e+04        534.393443   \n",
       "std      2.566984e+05   2154.779803  1.746327e+05       2047.518613   \n",
       "min      7.000000e+00     42.000000  0.000000e+00          1.000000   \n",
       "25%      3.340000e+02    489.000000  8.600000e+01          3.250000   \n",
       "50%      2.178000e+03    936.000000  8.990000e+02         27.500000   \n",
       "75%      2.055300e+04   2538.000000  7.124000e+03        160.250000   \n",
       "max      2.576668e+06   4140.000000  2.292707e+06      18296.000000   \n",
       "\n",
       "       Tot Cases/1M pop  Deaths/1M pop    TotalTests   Tests/1M pop  \n",
       "count        208.000000     187.000000  1.910000e+02     191.000000  \n",
       "mean        3196.024038      98.681176  1.402405e+06   83959.366492  \n",
       "std         5191.986457     174.956862  5.553367e+06  152730.591240  \n",
       "min            3.000000       0.080000  6.100000e+01       4.000000  \n",
       "25%          282.000000       6.000000  2.575200e+04    8956.500000  \n",
       "50%         1015.000000      29.000000  1.357020e+05   32585.000000  \n",
       "75%         3841.750000      98.000000  7.576960e+05   92154.500000  \n",
       "max        39922.000000    1238.000000  6.313960e+07  995282.000000  "
      ]
     },
     "execution_count": 1191,
     "metadata": {},
     "output_type": "execute_result"
    }
   ],
   "source": [
    "data.describe()"
   ]
  },
  {
   "cell_type": "code",
   "execution_count": 1192,
   "metadata": {},
   "outputs": [
    {
     "data": {
      "text/plain": [
       "<matplotlib.axes._subplots.AxesSubplot at 0x29bc5e958e0>"
      ]
     },
     "execution_count": 1192,
     "metadata": {},
     "output_type": "execute_result"
    },
    {
     "data": {
      "image/png": "[encoded data removed]",
      "text/plain": [
       "<Figure size 720x1440 with 1 Axes>"
      ]
     },
     "metadata": {
      "needs_background": "light"
     },
     "output_type": "display_data"
    }
   ],
   "source": [
    "plt.figure(figsize=(10,20))  \n",
    "a= np.log(data['TotalCases'])\n",
    "b = data['Continent']\n",
    "sns.boxplot(x= b, y= a, data = data) "
   ]
  },
  {
   "cell_type": "code",
   "execution_count": 1193,
   "metadata": {},
   "outputs": [
    {
     "data": {
      "text/plain": [
       "Continent\n",
       "Africa                17752.052632\n",
       "Asia                  97704.041667\n",
       "Australia/Oceania      3622.500000\n",
       "Europe                62137.000000\n",
       "North America        169120.257143\n",
       "South America        324519.500000\n",
       "Name: TotalCases, dtype: float64"
      ]
     },
     "execution_count": 1193,
     "metadata": {},
     "output_type": "execute_result"
    }
   ],
   "source": [
    "data.groupby('Continent')['TotalCases'].mean()"
   ]
  },
  {
   "cell_type": "code",
   "execution_count": 1194,
   "metadata": {},
   "outputs": [
    {
     "data": {
      "text/plain": [
       "<matplotlib.axes._subplots.AxesSubplot at 0x29bcb269bb0>"
      ]
     },
     "execution_count": 1194,
     "metadata": {},
     "output_type": "execute_result"
    },
    {
     "data": {
      "image/png": "[encoded data removed]",
      "text/plain": [
       "<Figure size 432x288 with 1 Axes>"
      ]
     },
     "metadata": {
      "needs_background": "light"
     },
     "output_type": "display_data"
    }
   ],
   "source": [
    "sns.heatmap(data.isnull(),yticklabels = False, cbar = False, cmap = 'viridis')"
   ]
  },
  {
   "cell_type": "markdown",
   "metadata": {},
   "source": [
    "Correlational Matrix "
   ]
  },
  {
   "cell_type": "code",
   "execution_count": 1195,
   "metadata": {},
   "outputs": [],
   "source": [
    "corrmatrix=data.corr()"
   ]
  },
  {
   "cell_type": "code",
   "execution_count": 1196,
   "metadata": {},
   "outputs": [
    {
     "name": "stdout",
     "output_type": "stream",
     "text": [
      "                  Population  TotalCases  NewCases  TotalDeaths  NewDeaths  \\\n",
      "Population          1.000000    0.546158  0.889610     0.431072   0.910836   \n",
      "TotalCases          0.546158    1.000000  0.999459     0.938622   0.998062   \n",
      "NewCases            0.889610    0.999459  1.000000     0.991894   0.995554   \n",
      "TotalDeaths         0.431072    0.938622  0.991894     1.000000   0.999507   \n",
      "NewDeaths           0.910836    0.998062  0.995554     0.999507   1.000000   \n",
      "TotalRecovered      0.590239    0.985764  0.991416     0.935410   0.998935   \n",
      "NewRecovered        0.854194    0.998258  0.999636     0.988362   0.992651   \n",
      "ActiveCases         0.459124    0.969423  0.935500     0.927625   0.888717   \n",
      "Serious,Critical    0.595379    0.967270  0.985526     0.906627   0.997112   \n",
      "Tot Cases/1M pop   -0.009337    0.252627  0.321203     0.237206   0.046499   \n",
      "Deaths/1M pop       0.025686    0.280476  0.842468     0.425186   0.751519   \n",
      "TotalTests          0.497937    0.891001  0.214572     0.850304   0.039460   \n",
      "Tests/1M pop       -0.075129    0.029141 -0.669339     0.053870  -0.803470   \n",
      "\n",
      "                  TotalRecovered  NewRecovered  ActiveCases  Serious,Critical  \\\n",
      "Population              0.590239      0.854194     0.459124          0.595379   \n",
      "TotalCases              0.985764      0.998258     0.969423          0.967270   \n",
      "NewCases                0.991416      0.999636     0.935500          0.985526   \n",
      "TotalDeaths             0.935410      0.988362     0.927625          0.906627   \n",
      "NewDeaths               0.998935      0.992651     0.888717          0.997112   \n",
      "TotalRecovered          1.000000      0.986012     0.914566          0.949628   \n",
      "NewRecovered            0.986012      1.000000     0.937663          0.980595   \n",
      "ActiveCases             0.914566      0.937663     1.000000          0.945943   \n",
      "Serious,Critical        0.949628      0.980595     0.945943          1.000000   \n",
      "Tot Cases/1M pop        0.268483      0.167036     0.212899          0.209668   \n",
      "Deaths/1M pop           0.296443      0.825828     0.255001          0.271842   \n",
      "TotalTests              0.870113     -0.081745     0.911488          0.859526   \n",
      "Tests/1M pop            0.022027     -0.869608     0.028963          0.020649   \n",
      "\n",
      "                  Tot Cases/1M pop  Deaths/1M pop  TotalTests  Tests/1M pop  \n",
      "Population               -0.009337       0.025686    0.497937     -0.075129  \n",
      "TotalCases                0.252627       0.280476    0.891001      0.029141  \n",
      "NewCases                  0.321203       0.842468    0.214572     -0.669339  \n",
      "TotalDeaths               0.237206       0.425186    0.850304      0.053870  \n",
      "NewDeaths                 0.046499       0.751519    0.039460     -0.803470  \n",
      "TotalRecovered            0.268483       0.296443    0.870113      0.022027  \n",
      "NewRecovered              0.167036       0.825828   -0.081745     -0.869608  \n",
      "ActiveCases               0.212899       0.255001    0.911488      0.028963  \n",
      "Serious,Critical          0.209668       0.271842    0.859526      0.020649  \n",
      "Tot Cases/1M pop          1.000000       0.502134    0.194120      0.302728  \n",
      "Deaths/1M pop             0.502134       1.000000    0.264218      0.156827  \n",
      "TotalTests                0.194120       0.264218    1.000000      0.096177  \n",
      "Tests/1M pop              0.302728       0.156827    0.096177      1.000000  \n"
     ]
    }
   ],
   "source": [
    "print(corrmatrix)"
   ]
  },
  {
   "cell_type": "code",
   "execution_count": 1197,
   "metadata": {},
   "outputs": [
    {
     "data": {
      "text/plain": [
       "<matplotlib.axes._subplots.AxesSubplot at 0x29bcc96c0d0>"
      ]
     },
     "execution_count": 1197,
     "metadata": {},
     "output_type": "execute_result"
    },
    {
     "data": {
      "image/png": "[encoded data removed]",
      "text/plain": [
       "<Figure size 432x288 with 2 Axes>"
      ]
     },
     "metadata": {
      "needs_background": "light"
     },
     "output_type": "display_data"
    }
   ],
   "source": [
    "sns.heatmap(corrmatrix,annot=True)"
   ]
  },
  {
   "cell_type": "markdown",
   "metadata": {},
   "source": [
    "Continue to run the correlational matrix dropping correlated values until only relevant, non duplicate information is remaining"
   ]
  },
  {
   "cell_type": "code",
   "execution_count": 1198,
   "metadata": {},
   "outputs": [],
   "source": [
    "data= data.drop(['NewCases', 'NewDeaths','NewRecovered','WHO Region'], axis=1)"
   ]
  },
  {
   "cell_type": "markdown",
   "metadata": {},
   "source": [
    "Highly correlated fields, or fields with correlational values higher than 0.8 or lower than -0.8 should be removed in further analysis. New Cases, Total Cases, Total Deaths, New Deaths, Total Recovered, New Recovered, Active Cases, Total Tests, and Serious/Critical are all highly correlated with eachother. In order to ensure an accurate analysis, highly correlated fields will be removed and this analysis will focus only on Total Cases."
   ]
  },
  {
   "cell_type": "markdown",
   "metadata": {},
   "source": [
    "We are removing Tot Cases/1M pop, Deaths/1M pop, Tests/1M pop, and WHO Region because they are redundant."
   ]
  },
  {
   "cell_type": "code",
   "execution_count": 1199,
   "metadata": {},
   "outputs": [
    {
     "data": {
      "text/plain": [
       "<matplotlib.axes._subplots.AxesSubplot at 0x29bccb453d0>"
      ]
     },
     "execution_count": 1199,
     "metadata": {},
     "output_type": "execute_result"
    },
    {
     "data": {
      "image/png": "[encoded data removed]",
      "text/plain": [
       "<Figure size 432x288 with 2 Axes>"
      ]
     },
     "metadata": {
      "needs_background": "light"
     },
     "output_type": "display_data"
    }
   ],
   "source": [
    "corrmatrix=data.corr()\n",
    "sns.heatmap(corrmatrix,annot=True)"
   ]
  },
  {
   "cell_type": "markdown",
   "metadata": {},
   "source": [
    "Even though Population, Total Cases, Total Deaths and Total Recovered all have a correllational coefficient of close to 1 and therefore are highly correlated with eachother, I believe it is important to keep all four of these metrics because they all can provide insights on the dataset to help us understand the data. Other metrics that highly correlated with eachother were removed to avoid duplication of information with these four specific metrics."
   ]
  },
  {
   "cell_type": "code",
   "execution_count": 1200,
   "metadata": {},
   "outputs": [
    {
     "data": {
      "text/html": [
       "<div>\n",
       "<style scoped>\n",
       "    .dataframe tbody tr th:only-of-type {\n",
       "        vertical-align: middle;\n",
       "    }\n",
       "\n",
       "    .dataframe tbody tr th {\n",
       "        vertical-align: top;\n",
       "    }\n",
       "\n",
       "    .dataframe thead th {\n",
       "        text-align: right;\n",
       "    }\n",
       "</style>\n",
       "<table border=\"1\" class=\"dataframe\">\n",
       "  <thead>\n",
       "    <tr style=\"text-align: right;\">\n",
       "      <th></th>\n",
       "      <th>Country/Region</th>\n",
       "      <th>Continent</th>\n",
       "      <th>Population</th>\n",
       "      <th>TotalCases</th>\n",
       "      <th>TotalDeaths</th>\n",
       "      <th>TotalRecovered</th>\n",
       "      <th>ActiveCases</th>\n",
       "      <th>Serious,Critical</th>\n",
       "      <th>Tot Cases/1M pop</th>\n",
       "      <th>Deaths/1M pop</th>\n",
       "      <th>TotalTests</th>\n",
       "      <th>Tests/1M pop</th>\n",
       "    </tr>\n",
       "  </thead>\n",
       "  <tbody>\n",
       "    <tr>\n",
       "      <th>0</th>\n",
       "      <td>USA</td>\n",
       "      <td>North America</td>\n",
       "      <td>3.311981e+08</td>\n",
       "      <td>5032179</td>\n",
       "      <td>162804.0</td>\n",
       "      <td>2576668.0</td>\n",
       "      <td>2292707.0</td>\n",
       "      <td>18296.0</td>\n",
       "      <td>15194.0</td>\n",
       "      <td>492.0</td>\n",
       "      <td>63139605.0</td>\n",
       "      <td>190640.0</td>\n",
       "    </tr>\n",
       "    <tr>\n",
       "      <th>1</th>\n",
       "      <td>Brazil</td>\n",
       "      <td>South America</td>\n",
       "      <td>2.127107e+08</td>\n",
       "      <td>2917562</td>\n",
       "      <td>98644.0</td>\n",
       "      <td>2047660.0</td>\n",
       "      <td>771258.0</td>\n",
       "      <td>8318.0</td>\n",
       "      <td>13716.0</td>\n",
       "      <td>464.0</td>\n",
       "      <td>13206188.0</td>\n",
       "      <td>62085.0</td>\n",
       "    </tr>\n",
       "    <tr>\n",
       "      <th>2</th>\n",
       "      <td>India</td>\n",
       "      <td>Asia</td>\n",
       "      <td>1.381345e+09</td>\n",
       "      <td>2025409</td>\n",
       "      <td>41638.0</td>\n",
       "      <td>1377384.0</td>\n",
       "      <td>606387.0</td>\n",
       "      <td>8944.0</td>\n",
       "      <td>1466.0</td>\n",
       "      <td>30.0</td>\n",
       "      <td>22149351.0</td>\n",
       "      <td>16035.0</td>\n",
       "    </tr>\n",
       "    <tr>\n",
       "      <th>3</th>\n",
       "      <td>Russia</td>\n",
       "      <td>Europe</td>\n",
       "      <td>1.459409e+08</td>\n",
       "      <td>871894</td>\n",
       "      <td>14606.0</td>\n",
       "      <td>676357.0</td>\n",
       "      <td>180931.0</td>\n",
       "      <td>2300.0</td>\n",
       "      <td>5974.0</td>\n",
       "      <td>100.0</td>\n",
       "      <td>29716907.0</td>\n",
       "      <td>203623.0</td>\n",
       "    </tr>\n",
       "    <tr>\n",
       "      <th>4</th>\n",
       "      <td>South Africa</td>\n",
       "      <td>Africa</td>\n",
       "      <td>5.938157e+07</td>\n",
       "      <td>538184</td>\n",
       "      <td>9604.0</td>\n",
       "      <td>387316.0</td>\n",
       "      <td>141264.0</td>\n",
       "      <td>539.0</td>\n",
       "      <td>9063.0</td>\n",
       "      <td>162.0</td>\n",
       "      <td>3149807.0</td>\n",
       "      <td>53044.0</td>\n",
       "    </tr>\n",
       "  </tbody>\n",
       "</table>\n",
       "</div>"
      ],
      "text/plain": [
       "  Country/Region      Continent    Population  TotalCases  TotalDeaths  \\\n",
       "0            USA  North America  3.311981e+08     5032179     162804.0   \n",
       "1         Brazil  South America  2.127107e+08     2917562      98644.0   \n",
       "2          India           Asia  1.381345e+09     2025409      41638.0   \n",
       "3         Russia         Europe  1.459409e+08      871894      14606.0   \n",
       "4   South Africa         Africa  5.938157e+07      538184       9604.0   \n",
       "\n",
       "   TotalRecovered  ActiveCases  Serious,Critical  Tot Cases/1M pop  \\\n",
       "0       2576668.0    2292707.0           18296.0           15194.0   \n",
       "1       2047660.0     771258.0            8318.0           13716.0   \n",
       "2       1377384.0     606387.0            8944.0            1466.0   \n",
       "3        676357.0     180931.0            2300.0            5974.0   \n",
       "4        387316.0     141264.0             539.0            9063.0   \n",
       "\n",
       "   Deaths/1M pop  TotalTests  Tests/1M pop  \n",
       "0          492.0  63139605.0      190640.0  \n",
       "1          464.0  13206188.0       62085.0  \n",
       "2           30.0  22149351.0       16035.0  \n",
       "3          100.0  29716907.0      203623.0  \n",
       "4          162.0   3149807.0       53044.0  "
      ]
     },
     "execution_count": 1200,
     "metadata": {},
     "output_type": "execute_result"
    }
   ],
   "source": [
    "data.head()"
   ]
  },
  {
   "cell_type": "code",
   "execution_count": 1201,
   "metadata": {},
   "outputs": [
    {
     "data": {
      "text/plain": [
       "Continent\n",
       "Africa                 402.072727\n",
       "Asia                  2395.880952\n",
       "Australia/Oceania       70.250000\n",
       "Europe                4560.711111\n",
       "North America         8209.107143\n",
       "South America        11914.230769\n",
       "Name: TotalDeaths, dtype: float64"
      ]
     },
     "execution_count": 1201,
     "metadata": {},
     "output_type": "execute_result"
    }
   ],
   "source": [
    "data.groupby('Continent')['TotalDeaths'].mean()"
   ]
  },
  {
   "cell_type": "code",
   "execution_count": 1202,
   "metadata": {},
   "outputs": [],
   "source": [
    "def impute_deaths(num):\n",
    "    deaths = num[0]     \n",
    "    continent = num[1]\n",
    "    if pd.isnull(deaths):\n",
    "        if continent == 'Africa':\n",
    "            return 402.07\n",
    "        if continent == 'Asia':\n",
    "            return 2395.88\n",
    "        if continent == 'Australia/Oceania':\n",
    "            return 70.25\n",
    "        if continent == 'Europe':\n",
    "            return 4560.71\n",
    "        if continent == 'North America':\n",
    "            return 8209.11\n",
    "        else:\n",
    "            return 11914.23\n",
    "    else:\n",
    "        return deaths"
   ]
  },
  {
   "cell_type": "code",
   "execution_count": 1203,
   "metadata": {},
   "outputs": [],
   "source": [
    "data['TotalDeaths'] = data[['TotalDeaths','Continent']].apply(impute_deaths, axis = 1) "
   ]
  },
  {
   "cell_type": "code",
   "execution_count": 1204,
   "metadata": {},
   "outputs": [
    {
     "data": {
      "text/plain": [
       "<matplotlib.axes._subplots.AxesSubplot at 0x29bccc7c190>"
      ]
     },
     "execution_count": 1204,
     "metadata": {},
     "output_type": "execute_result"
    },
    {
     "data": {
      "image/png": "[encoded data removed]",
      "text/plain": [
       "<Figure size 432x288 with 1 Axes>"
      ]
     },
     "metadata": {
      "needs_background": "light"
     },
     "output_type": "display_data"
    }
   ],
   "source": [
    "data.groupby('Continent')['TotalDeaths'].sum().plot(kind='bar')"
   ]
  },
  {
   "cell_type": "code",
   "execution_count": 1205,
   "metadata": {},
   "outputs": [
    {
     "data": {
      "text/plain": [
       "Continent\n",
       "Africa                12168.771930\n",
       "Asia                  73086.875000\n",
       "Australia/Oceania      2103.333333\n",
       "Europe                36075.045455\n",
       "North America         90047.942857\n",
       "South America        222582.142857\n",
       "Name: TotalRecovered, dtype: float64"
      ]
     },
     "execution_count": 1205,
     "metadata": {},
     "output_type": "execute_result"
    }
   ],
   "source": [
    "data.groupby('Continent')['TotalRecovered'].mean()"
   ]
  },
  {
   "cell_type": "code",
   "execution_count": 1206,
   "metadata": {},
   "outputs": [],
   "source": [
    "def impute_recovered(num):\n",
    "    recovered = num[0]     \n",
    "    continent = num[1]\n",
    "    if pd.isnull(recovered):\n",
    "        if continent == 'Africa':\n",
    "            return 12168.77\n",
    "        if continent == 'Asia':\n",
    "            return 73086.88\n",
    "        if continent == 'Australia/Oceania':\n",
    "            return 2103.33\n",
    "        if continent == 'Europe':\n",
    "            return 36075.05\n",
    "        if continent == 'North America':\n",
    "            return 90047.94\n",
    "        else:\n",
    "            return 222582.14\n",
    "    else:\n",
    "        return recovered"
   ]
  },
  {
   "cell_type": "code",
   "execution_count": 1207,
   "metadata": {},
   "outputs": [],
   "source": [
    "data['TotalRecovered'] = data[['TotalRecovered','Continent']].apply(impute_recovered, axis = 1) "
   ]
  },
  {
   "cell_type": "code",
   "execution_count": 1208,
   "metadata": {},
   "outputs": [
    {
     "data": {
      "text/plain": [
       "<matplotlib.axes._subplots.AxesSubplot at 0x29bcccd1a60>"
      ]
     },
     "execution_count": 1208,
     "metadata": {},
     "output_type": "execute_result"
    },
    {
     "data": {
      "image/png": "[encoded data removed]",
      "text/plain": [
       "<Figure size 432x288 with 1 Axes>"
      ]
     },
     "metadata": {
      "needs_background": "light"
     },
     "output_type": "display_data"
    }
   ],
   "source": [
    "data.groupby('Continent')['TotalRecovered'].sum().plot(kind='bar')"
   ]
  },
  {
   "cell_type": "code",
   "execution_count": 1209,
   "metadata": {},
   "outputs": [
    {
     "data": {
      "text/plain": [
       "Continent\n",
       "Africa                5195.315789\n",
       "Asia                 22520.770833\n",
       "Australia/Oceania     1472.333333\n",
       "Europe               10801.386364\n",
       "North America        72505.028571\n",
       "South America        90874.142857\n",
       "Name: ActiveCases, dtype: float64"
      ]
     },
     "execution_count": 1209,
     "metadata": {},
     "output_type": "execute_result"
    }
   ],
   "source": [
    "data.groupby('Continent')['ActiveCases'].mean()"
   ]
  },
  {
   "cell_type": "code",
   "execution_count": 1210,
   "metadata": {},
   "outputs": [],
   "source": [
    "def impute_active(num):\n",
    "    active = num[0]     \n",
    "    continent = num[1]\n",
    "    if pd.isnull(active):\n",
    "        if continent == 'Africa':\n",
    "            return 5195.32\n",
    "        if continent == 'Asia':\n",
    "            return 22520.77\n",
    "        if continent == 'Australia/Oceania':\n",
    "            return 1472.33\n",
    "        if continent == 'Europe':\n",
    "            return 10801.39\n",
    "        if continent == 'North America':\n",
    "            return 72505.03\n",
    "        else:\n",
    "            return 90874.14\n",
    "    else:\n",
    "        return active"
   ]
  },
  {
   "cell_type": "code",
   "execution_count": 1211,
   "metadata": {},
   "outputs": [],
   "source": [
    "data['ActiveCases'] = data[['ActiveCases','Continent']].apply(impute_recovered, axis = 1) "
   ]
  },
  {
   "cell_type": "code",
   "execution_count": 1212,
   "metadata": {},
   "outputs": [
    {
     "data": {
      "text/plain": [
       "<matplotlib.axes._subplots.AxesSubplot at 0x29bcc9661f0>"
      ]
     },
     "execution_count": 1212,
     "metadata": {},
     "output_type": "execute_result"
    },
    {
     "data": {
      "image/png": "[encoded data removed]",
      "text/plain": [
       "<Figure size 432x288 with 1 Axes>"
      ]
     },
     "metadata": {
      "needs_background": "light"
     },
     "output_type": "display_data"
    }
   ],
   "source": [
    "data.groupby('Continent')['ActiveCases'].sum().plot(kind='bar')"
   ]
  },
  {
   "cell_type": "code",
   "execution_count": 1213,
   "metadata": {},
   "outputs": [
    {
     "data": {
      "text/plain": [
       "Continent\n",
       "Africa                 42.392857\n",
       "Asia                  669.607143\n",
       "Australia/Oceania      52.000000\n",
       "Europe                152.941176\n",
       "North America        1512.294118\n",
       "South America        1099.615385\n",
       "Name: Serious,Critical, dtype: float64"
      ]
     },
     "execution_count": 1213,
     "metadata": {},
     "output_type": "execute_result"
    }
   ],
   "source": [
    "data.groupby('Continent')['Serious,Critical'].mean()"
   ]
  },
  {
   "cell_type": "code",
   "execution_count": 1214,
   "metadata": {},
   "outputs": [],
   "source": [
    "def impute_serious(num):\n",
    "    serious = num[0]     \n",
    "    continent = num[1]\n",
    "    if pd.isnull(serious):\n",
    "        if continent == 'Africa':\n",
    "            return 42.39\n",
    "        if continent == 'Asia':\n",
    "            return 669.61\n",
    "        if continent == 'Australia/Oceania':\n",
    "            return 52.00\n",
    "        if continent == 'Europe':\n",
    "            return 152.94\n",
    "        if continent == 'North America':\n",
    "            return 1512.29\n",
    "        else:\n",
    "            return 1099.62\n",
    "    else:\n",
    "        return serious"
   ]
  },
  {
   "cell_type": "code",
   "execution_count": 1215,
   "metadata": {},
   "outputs": [],
   "source": [
    "data['Serious,Critical'] = data[['Serious,Critical','Continent']].apply(impute_recovered, axis = 1) "
   ]
  },
  {
   "cell_type": "code",
   "execution_count": 1216,
   "metadata": {},
   "outputs": [
    {
     "data": {
      "text/plain": [
       "<matplotlib.axes._subplots.AxesSubplot at 0x29bcd048490>"
      ]
     },
     "execution_count": 1216,
     "metadata": {},
     "output_type": "execute_result"
    },
    {
     "data": {
      "image/png": "[encoded data removed]",
      "text/plain": [
       "<Figure size 432x288 with 1 Axes>"
      ]
     },
     "metadata": {
      "needs_background": "light"
     },
     "output_type": "display_data"
    }
   ],
   "source": [
    "data.groupby('Continent')['Serious,Critical'].sum().plot(kind='bar')"
   ]
  },
  {
   "cell_type": "code",
   "execution_count": 1217,
   "metadata": {},
   "outputs": [
    {
     "data": {
      "text/plain": [
       "Continent\n",
       "Africa               1.971330e+05\n",
       "Asia                 1.420735e+06\n",
       "Australia/Oceania    8.588018e+05\n",
       "Europe               2.045226e+06\n",
       "North America        2.063929e+06\n",
       "South America        1.598544e+06\n",
       "Name: TotalTests, dtype: float64"
      ]
     },
     "execution_count": 1217,
     "metadata": {},
     "output_type": "execute_result"
    }
   ],
   "source": [
    "data.groupby('Continent')['TotalTests'].mean()"
   ]
  },
  {
   "cell_type": "code",
   "execution_count": 1218,
   "metadata": {},
   "outputs": [],
   "source": [
    "def impute_ttests(num):\n",
    "    ttests = num[0]     \n",
    "    continent = num[1]\n",
    "    if pd.isnull(ttests):\n",
    "        if continent == 'Africa':\n",
    "            return 1.971330e+05\n",
    "        if continent == 'Asia':\n",
    "            return 1.420735e+06\n",
    "        if continent == 'Australia/Oceania':\n",
    "            return 8.588018e+05\n",
    "        if continent == 'Europe':\n",
    "            return 2.045226e+06\n",
    "        if continent == 'North America':\n",
    "            return 2.063929e+06\n",
    "        else:\n",
    "            return 1.598544e+06\n",
    "    else:\n",
    "        return ttests"
   ]
  },
  {
   "cell_type": "code",
   "execution_count": 1219,
   "metadata": {},
   "outputs": [],
   "source": [
    "data['TotalTests'] = data[['TotalTests','Continent']].apply(impute_recovered, axis = 1) "
   ]
  },
  {
   "cell_type": "code",
   "execution_count": 1220,
   "metadata": {},
   "outputs": [
    {
     "data": {
      "text/plain": [
       "<matplotlib.axes._subplots.AxesSubplot at 0x29bcd0994c0>"
      ]
     },
     "execution_count": 1220,
     "metadata": {},
     "output_type": "execute_result"
    },
    {
     "data": {
      "image/png": "[encoded data removed]",
      "text/plain": [
       "<Figure size 432x288 with 1 Axes>"
      ]
     },
     "metadata": {
      "needs_background": "light"
     },
     "output_type": "display_data"
    }
   ],
   "source": [
    "data.groupby('Continent')['TotalTests'].sum().plot(kind='bar')"
   ]
  },
  {
   "cell_type": "code",
   "execution_count": 1221,
   "metadata": {},
   "outputs": [
    {
     "data": {
      "text/plain": [
       "Continent\n",
       "Africa                18.241455\n",
       "Asia                  43.971429\n",
       "Australia/Oceania      3.825000\n",
       "Europe               214.955556\n",
       "North America        110.607143\n",
       "South America        216.769231\n",
       "Name: Deaths/1M pop, dtype: float64"
      ]
     },
     "execution_count": 1221,
     "metadata": {},
     "output_type": "execute_result"
    }
   ],
   "source": [
    "data.groupby('Continent')['Deaths/1M pop'].mean()"
   ]
  },
  {
   "cell_type": "code",
   "execution_count": 1222,
   "metadata": {},
   "outputs": [],
   "source": [
    "def impute_tdeathsM(num):\n",
    "    tdeathsM = num[0]     \n",
    "    continent = num[1]\n",
    "    if pd.isnull(tdeathsM):\n",
    "        if continent == 'Africa':\n",
    "            return 18.24\n",
    "        if continent == 'Asia':\n",
    "            return 43.97\n",
    "        if continent == 'Australia/Oceania':\n",
    "            return 3.83\n",
    "        if continent == 'Europe':\n",
    "            return 214.96\n",
    "        if continent == 'North America':\n",
    "            return 110.61\n",
    "        else:\n",
    "            return 216.77\n",
    "    else:\n",
    "        return tdeathsM"
   ]
  },
  {
   "cell_type": "code",
   "execution_count": 1223,
   "metadata": {},
   "outputs": [],
   "source": [
    "data['Deaths/1M pop'] = data[['Deaths/1M pop','Continent']].apply(impute_recovered, axis = 1) "
   ]
  },
  {
   "cell_type": "code",
   "execution_count": 1224,
   "metadata": {},
   "outputs": [
    {
     "data": {
      "text/plain": [
       "Continent\n",
       "Africa                18319.136364\n",
       "Asia                  74640.282609\n",
       "Australia/Oceania     57847.166667\n",
       "Europe               176300.851064\n",
       "North America         60878.676471\n",
       "South America         78117.571429\n",
       "Name: Tests/1M pop, dtype: float64"
      ]
     },
     "execution_count": 1224,
     "metadata": {},
     "output_type": "execute_result"
    }
   ],
   "source": [
    "data.groupby('Continent')['Tests/1M pop'].mean()"
   ]
  },
  {
   "cell_type": "code",
   "execution_count": 1225,
   "metadata": {},
   "outputs": [],
   "source": [
    "def impute_ttestsM(num):\n",
    "    ttestsM = num[0]     \n",
    "    continent = num[1]\n",
    "    if pd.isnull(ttestsM):\n",
    "        if continent == 'Africa':\n",
    "            return 18319.14\n",
    "        if continent == 'Asia':\n",
    "            return 74640.28\n",
    "        if continent == 'Australia/Oceania':\n",
    "            return 57847.17\n",
    "        if continent == 'Europe':\n",
    "            return 176300.85\n",
    "        if continent == 'North America':\n",
    "            return 60878.68\n",
    "        else:\n",
    "            return 78117.57\n",
    "    else:\n",
    "        return ttestsM"
   ]
  },
  {
   "cell_type": "code",
   "execution_count": 1226,
   "metadata": {},
   "outputs": [],
   "source": [
    "data['Tests/1M pop'] = data[['Tests/1M pop','Continent']].apply(impute_recovered, axis = 1) "
   ]
  },
  {
   "cell_type": "code",
   "execution_count": 1227,
   "metadata": {},
   "outputs": [
    {
     "data": {
      "text/plain": [
       "<matplotlib.axes._subplots.AxesSubplot at 0x29bcd10b370>"
      ]
     },
     "execution_count": 1227,
     "metadata": {},
     "output_type": "execute_result"
    },
    {
     "data": {
      "image/png": "[encoded data removed]",
      "text/plain": [
       "<Figure size 432x288 with 1 Axes>"
      ]
     },
     "metadata": {
      "needs_background": "light"
     },
     "output_type": "display_data"
    }
   ],
   "source": [
    "sns.heatmap(data.isnull(),yticklabels = False, cbar = False, cmap = 'viridis')"
   ]
  },
  {
   "cell_type": "code",
   "execution_count": 1228,
   "metadata": {},
   "outputs": [],
   "source": [
    "indexname = data[data['Country/Region'] == 'Diamond Princess'].index"
   ]
  },
  {
   "cell_type": "code",
   "execution_count": 1229,
   "metadata": {},
   "outputs": [],
   "source": [
    "data.drop(indexname, inplace = True)"
   ]
  },
  {
   "cell_type": "code",
   "execution_count": 1230,
   "metadata": {},
   "outputs": [
    {
     "data": {
      "text/plain": [
       "<matplotlib.axes._subplots.AxesSubplot at 0x29bcd1577c0>"
      ]
     },
     "execution_count": 1230,
     "metadata": {},
     "output_type": "execute_result"
    },
    {
     "data": {
      "image/png": "[encoded data removed]",
      "text/plain": [
       "<Figure size 432x288 with 1 Axes>"
      ]
     },
     "metadata": {
      "needs_background": "light"
     },
     "output_type": "display_data"
    }
   ],
   "source": [
    "sns.heatmap(data.isnull(),yticklabels = False, cbar = False, cmap = 'viridis')"
   ]
  },
  {
   "cell_type": "code",
   "execution_count": 1231,
   "metadata": {},
   "outputs": [],
   "source": [
    "dum_continent = pd.get_dummies(data['Continent'], drop_first = True)"
   ]
  },
  {
   "cell_type": "code",
   "execution_count": 1232,
   "metadata": {},
   "outputs": [],
   "source": [
    "dum_country = pd.get_dummies(data['Country/Region'], drop_first = True)"
   ]
  },
  {
   "cell_type": "code",
   "execution_count": 1233,
   "metadata": {},
   "outputs": [
    {
     "data": {
      "text/html": [
       "<div>\n",
       "<style scoped>\n",
       "    .dataframe tbody tr th:only-of-type {\n",
       "        vertical-align: middle;\n",
       "    }\n",
       "\n",
       "    .dataframe tbody tr th {\n",
       "        vertical-align: top;\n",
       "    }\n",
       "\n",
       "    .dataframe thead th {\n",
       "        text-align: right;\n",
       "    }\n",
       "</style>\n",
       "<table border=\"1\" class=\"dataframe\">\n",
       "  <thead>\n",
       "    <tr style=\"text-align: right;\">\n",
       "      <th></th>\n",
       "      <th>Albania</th>\n",
       "      <th>Algeria</th>\n",
       "      <th>Andorra</th>\n",
       "      <th>Angola</th>\n",
       "      <th>Antigua and Barbuda</th>\n",
       "      <th>Argentina</th>\n",
       "      <th>Armenia</th>\n",
       "      <th>Aruba</th>\n",
       "      <th>Australia</th>\n",
       "      <th>Austria</th>\n",
       "      <th>...</th>\n",
       "      <th>Ukraine</th>\n",
       "      <th>Uruguay</th>\n",
       "      <th>Uzbekistan</th>\n",
       "      <th>Vatican City</th>\n",
       "      <th>Venezuela</th>\n",
       "      <th>Vietnam</th>\n",
       "      <th>Western Sahara</th>\n",
       "      <th>Yemen</th>\n",
       "      <th>Zambia</th>\n",
       "      <th>Zimbabwe</th>\n",
       "    </tr>\n",
       "  </thead>\n",
       "  <tbody>\n",
       "    <tr>\n",
       "      <th>0</th>\n",
       "      <td>0</td>\n",
       "      <td>0</td>\n",
       "      <td>0</td>\n",
       "      <td>0</td>\n",
       "      <td>0</td>\n",
       "      <td>0</td>\n",
       "      <td>0</td>\n",
       "      <td>0</td>\n",
       "      <td>0</td>\n",
       "      <td>0</td>\n",
       "      <td>...</td>\n",
       "      <td>0</td>\n",
       "      <td>0</td>\n",
       "      <td>0</td>\n",
       "      <td>0</td>\n",
       "      <td>0</td>\n",
       "      <td>0</td>\n",
       "      <td>0</td>\n",
       "      <td>0</td>\n",
       "      <td>0</td>\n",
       "      <td>0</td>\n",
       "    </tr>\n",
       "    <tr>\n",
       "      <th>1</th>\n",
       "      <td>0</td>\n",
       "      <td>0</td>\n",
       "      <td>0</td>\n",
       "      <td>0</td>\n",
       "      <td>0</td>\n",
       "      <td>0</td>\n",
       "      <td>0</td>\n",
       "      <td>0</td>\n",
       "      <td>0</td>\n",
       "      <td>0</td>\n",
       "      <td>...</td>\n",
       "      <td>0</td>\n",
       "      <td>0</td>\n",
       "      <td>0</td>\n",
       "      <td>0</td>\n",
       "      <td>0</td>\n",
       "      <td>0</td>\n",
       "      <td>0</td>\n",
       "      <td>0</td>\n",
       "      <td>0</td>\n",
       "      <td>0</td>\n",
       "    </tr>\n",
       "    <tr>\n",
       "      <th>2</th>\n",
       "      <td>0</td>\n",
       "      <td>0</td>\n",
       "      <td>0</td>\n",
       "      <td>0</td>\n",
       "      <td>0</td>\n",
       "      <td>0</td>\n",
       "      <td>0</td>\n",
       "      <td>0</td>\n",
       "      <td>0</td>\n",
       "      <td>0</td>\n",
       "      <td>...</td>\n",
       "      <td>0</td>\n",
       "      <td>0</td>\n",
       "      <td>0</td>\n",
       "      <td>0</td>\n",
       "      <td>0</td>\n",
       "      <td>0</td>\n",
       "      <td>0</td>\n",
       "      <td>0</td>\n",
       "      <td>0</td>\n",
       "      <td>0</td>\n",
       "    </tr>\n",
       "    <tr>\n",
       "      <th>3</th>\n",
       "      <td>0</td>\n",
       "      <td>0</td>\n",
       "      <td>0</td>\n",
       "      <td>0</td>\n",
       "      <td>0</td>\n",
       "      <td>0</td>\n",
       "      <td>0</td>\n",
       "      <td>0</td>\n",
       "      <td>0</td>\n",
       "      <td>0</td>\n",
       "      <td>...</td>\n",
       "      <td>0</td>\n",
       "      <td>0</td>\n",
       "      <td>0</td>\n",
       "      <td>0</td>\n",
       "      <td>0</td>\n",
       "      <td>0</td>\n",
       "      <td>0</td>\n",
       "      <td>0</td>\n",
       "      <td>0</td>\n",
       "      <td>0</td>\n",
       "    </tr>\n",
       "    <tr>\n",
       "      <th>4</th>\n",
       "      <td>0</td>\n",
       "      <td>0</td>\n",
       "      <td>0</td>\n",
       "      <td>0</td>\n",
       "      <td>0</td>\n",
       "      <td>0</td>\n",
       "      <td>0</td>\n",
       "      <td>0</td>\n",
       "      <td>0</td>\n",
       "      <td>0</td>\n",
       "      <td>...</td>\n",
       "      <td>0</td>\n",
       "      <td>0</td>\n",
       "      <td>0</td>\n",
       "      <td>0</td>\n",
       "      <td>0</td>\n",
       "      <td>0</td>\n",
       "      <td>0</td>\n",
       "      <td>0</td>\n",
       "      <td>0</td>\n",
       "      <td>0</td>\n",
       "    </tr>\n",
       "  </tbody>\n",
       "</table>\n",
       "<p>5 rows × 207 columns</p>\n",
       "</div>"
      ],
      "text/plain": [
       "   Albania  Algeria  Andorra  Angola  Antigua and Barbuda  Argentina  Armenia  \\\n",
       "0        0        0        0       0                    0          0        0   \n",
       "1        0        0        0       0                    0          0        0   \n",
       "2        0        0        0       0                    0          0        0   \n",
       "3        0        0        0       0                    0          0        0   \n",
       "4        0        0        0       0                    0          0        0   \n",
       "\n",
       "   Aruba  Australia  Austria  ...  Ukraine  Uruguay  Uzbekistan  Vatican City  \\\n",
       "0      0          0        0  ...        0        0           0             0   \n",
       "1      0          0        0  ...        0        0           0             0   \n",
       "2      0          0        0  ...        0        0           0             0   \n",
       "3      0          0        0  ...        0        0           0             0   \n",
       "4      0          0        0  ...        0        0           0             0   \n",
       "\n",
       "   Venezuela  Vietnam  Western Sahara  Yemen  Zambia  Zimbabwe  \n",
       "0          0        0               0      0       0         0  \n",
       "1          0        0               0      0       0         0  \n",
       "2          0        0               0      0       0         0  \n",
       "3          0        0               0      0       0         0  \n",
       "4          0        0               0      0       0         0  \n",
       "\n",
       "[5 rows x 207 columns]"
      ]
     },
     "execution_count": 1233,
     "metadata": {},
     "output_type": "execute_result"
    }
   ],
   "source": [
    "dum_country.head()"
   ]
  },
  {
   "cell_type": "code",
   "execution_count": 1234,
   "metadata": {},
   "outputs": [
    {
     "data": {
      "text/html": [
       "<div>\n",
       "<style scoped>\n",
       "    .dataframe tbody tr th:only-of-type {\n",
       "        vertical-align: middle;\n",
       "    }\n",
       "\n",
       "    .dataframe tbody tr th {\n",
       "        vertical-align: top;\n",
       "    }\n",
       "\n",
       "    .dataframe thead th {\n",
       "        text-align: right;\n",
       "    }\n",
       "</style>\n",
       "<table border=\"1\" class=\"dataframe\">\n",
       "  <thead>\n",
       "    <tr style=\"text-align: right;\">\n",
       "      <th></th>\n",
       "      <th>Asia</th>\n",
       "      <th>Australia/Oceania</th>\n",
       "      <th>Europe</th>\n",
       "      <th>North America</th>\n",
       "      <th>South America</th>\n",
       "    </tr>\n",
       "  </thead>\n",
       "  <tbody>\n",
       "    <tr>\n",
       "      <th>0</th>\n",
       "      <td>0</td>\n",
       "      <td>0</td>\n",
       "      <td>0</td>\n",
       "      <td>1</td>\n",
       "      <td>0</td>\n",
       "    </tr>\n",
       "    <tr>\n",
       "      <th>1</th>\n",
       "      <td>0</td>\n",
       "      <td>0</td>\n",
       "      <td>0</td>\n",
       "      <td>0</td>\n",
       "      <td>1</td>\n",
       "    </tr>\n",
       "    <tr>\n",
       "      <th>2</th>\n",
       "      <td>1</td>\n",
       "      <td>0</td>\n",
       "      <td>0</td>\n",
       "      <td>0</td>\n",
       "      <td>0</td>\n",
       "    </tr>\n",
       "    <tr>\n",
       "      <th>3</th>\n",
       "      <td>0</td>\n",
       "      <td>0</td>\n",
       "      <td>1</td>\n",
       "      <td>0</td>\n",
       "      <td>0</td>\n",
       "    </tr>\n",
       "    <tr>\n",
       "      <th>4</th>\n",
       "      <td>0</td>\n",
       "      <td>0</td>\n",
       "      <td>0</td>\n",
       "      <td>0</td>\n",
       "      <td>0</td>\n",
       "    </tr>\n",
       "  </tbody>\n",
       "</table>\n",
       "</div>"
      ],
      "text/plain": [
       "   Asia  Australia/Oceania  Europe  North America  South America\n",
       "0     0                  0       0              1              0\n",
       "1     0                  0       0              0              1\n",
       "2     1                  0       0              0              0\n",
       "3     0                  0       1              0              0\n",
       "4     0                  0       0              0              0"
      ]
     },
     "execution_count": 1234,
     "metadata": {},
     "output_type": "execute_result"
    }
   ],
   "source": [
    "dum_continent.head()"
   ]
  },
  {
   "cell_type": "code",
   "execution_count": 1235,
   "metadata": {},
   "outputs": [],
   "source": [
    "data = pd.concat([data,dum_country,dum_continent], axis = 1)"
   ]
  },
  {
   "cell_type": "code",
   "execution_count": 1236,
   "metadata": {},
   "outputs": [],
   "source": [
    "data = data.drop(['Continent', 'Country/Region'], axis = 1)"
   ]
  },
  {
   "cell_type": "code",
   "execution_count": 1237,
   "metadata": {},
   "outputs": [
    {
     "data": {
      "text/html": [
       "<div>\n",
       "<style scoped>\n",
       "    .dataframe tbody tr th:only-of-type {\n",
       "        vertical-align: middle;\n",
       "    }\n",
       "\n",
       "    .dataframe tbody tr th {\n",
       "        vertical-align: top;\n",
       "    }\n",
       "\n",
       "    .dataframe thead th {\n",
       "        text-align: right;\n",
       "    }\n",
       "</style>\n",
       "<table border=\"1\" class=\"dataframe\">\n",
       "  <thead>\n",
       "    <tr style=\"text-align: right;\">\n",
       "      <th></th>\n",
       "      <th>Population</th>\n",
       "      <th>TotalCases</th>\n",
       "      <th>TotalDeaths</th>\n",
       "      <th>TotalRecovered</th>\n",
       "      <th>ActiveCases</th>\n",
       "      <th>Serious,Critical</th>\n",
       "      <th>Tot Cases/1M pop</th>\n",
       "      <th>Deaths/1M pop</th>\n",
       "      <th>TotalTests</th>\n",
       "      <th>Tests/1M pop</th>\n",
       "      <th>...</th>\n",
       "      <th>Vietnam</th>\n",
       "      <th>Western Sahara</th>\n",
       "      <th>Yemen</th>\n",
       "      <th>Zambia</th>\n",
       "      <th>Zimbabwe</th>\n",
       "      <th>Asia</th>\n",
       "      <th>Australia/Oceania</th>\n",
       "      <th>Europe</th>\n",
       "      <th>North America</th>\n",
       "      <th>South America</th>\n",
       "    </tr>\n",
       "  </thead>\n",
       "  <tbody>\n",
       "    <tr>\n",
       "      <th>0</th>\n",
       "      <td>3.311981e+08</td>\n",
       "      <td>5032179</td>\n",
       "      <td>162804.0</td>\n",
       "      <td>2576668.0</td>\n",
       "      <td>2292707.0</td>\n",
       "      <td>18296.0</td>\n",
       "      <td>15194.0</td>\n",
       "      <td>492.0</td>\n",
       "      <td>63139605.0</td>\n",
       "      <td>190640.0</td>\n",
       "      <td>...</td>\n",
       "      <td>0</td>\n",
       "      <td>0</td>\n",
       "      <td>0</td>\n",
       "      <td>0</td>\n",
       "      <td>0</td>\n",
       "      <td>0</td>\n",
       "      <td>0</td>\n",
       "      <td>0</td>\n",
       "      <td>1</td>\n",
       "      <td>0</td>\n",
       "    </tr>\n",
       "    <tr>\n",
       "      <th>1</th>\n",
       "      <td>2.127107e+08</td>\n",
       "      <td>2917562</td>\n",
       "      <td>98644.0</td>\n",
       "      <td>2047660.0</td>\n",
       "      <td>771258.0</td>\n",
       "      <td>8318.0</td>\n",
       "      <td>13716.0</td>\n",
       "      <td>464.0</td>\n",
       "      <td>13206188.0</td>\n",
       "      <td>62085.0</td>\n",
       "      <td>...</td>\n",
       "      <td>0</td>\n",
       "      <td>0</td>\n",
       "      <td>0</td>\n",
       "      <td>0</td>\n",
       "      <td>0</td>\n",
       "      <td>0</td>\n",
       "      <td>0</td>\n",
       "      <td>0</td>\n",
       "      <td>0</td>\n",
       "      <td>1</td>\n",
       "    </tr>\n",
       "    <tr>\n",
       "      <th>2</th>\n",
       "      <td>1.381345e+09</td>\n",
       "      <td>2025409</td>\n",
       "      <td>41638.0</td>\n",
       "      <td>1377384.0</td>\n",
       "      <td>606387.0</td>\n",
       "      <td>8944.0</td>\n",
       "      <td>1466.0</td>\n",
       "      <td>30.0</td>\n",
       "      <td>22149351.0</td>\n",
       "      <td>16035.0</td>\n",
       "      <td>...</td>\n",
       "      <td>0</td>\n",
       "      <td>0</td>\n",
       "      <td>0</td>\n",
       "      <td>0</td>\n",
       "      <td>0</td>\n",
       "      <td>1</td>\n",
       "      <td>0</td>\n",
       "      <td>0</td>\n",
       "      <td>0</td>\n",
       "      <td>0</td>\n",
       "    </tr>\n",
       "    <tr>\n",
       "      <th>3</th>\n",
       "      <td>1.459409e+08</td>\n",
       "      <td>871894</td>\n",
       "      <td>14606.0</td>\n",
       "      <td>676357.0</td>\n",
       "      <td>180931.0</td>\n",
       "      <td>2300.0</td>\n",
       "      <td>5974.0</td>\n",
       "      <td>100.0</td>\n",
       "      <td>29716907.0</td>\n",
       "      <td>203623.0</td>\n",
       "      <td>...</td>\n",
       "      <td>0</td>\n",
       "      <td>0</td>\n",
       "      <td>0</td>\n",
       "      <td>0</td>\n",
       "      <td>0</td>\n",
       "      <td>0</td>\n",
       "      <td>0</td>\n",
       "      <td>1</td>\n",
       "      <td>0</td>\n",
       "      <td>0</td>\n",
       "    </tr>\n",
       "    <tr>\n",
       "      <th>4</th>\n",
       "      <td>5.938157e+07</td>\n",
       "      <td>538184</td>\n",
       "      <td>9604.0</td>\n",
       "      <td>387316.0</td>\n",
       "      <td>141264.0</td>\n",
       "      <td>539.0</td>\n",
       "      <td>9063.0</td>\n",
       "      <td>162.0</td>\n",
       "      <td>3149807.0</td>\n",
       "      <td>53044.0</td>\n",
       "      <td>...</td>\n",
       "      <td>0</td>\n",
       "      <td>0</td>\n",
       "      <td>0</td>\n",
       "      <td>0</td>\n",
       "      <td>0</td>\n",
       "      <td>0</td>\n",
       "      <td>0</td>\n",
       "      <td>0</td>\n",
       "      <td>0</td>\n",
       "      <td>0</td>\n",
       "    </tr>\n",
       "  </tbody>\n",
       "</table>\n",
       "<p>5 rows × 222 columns</p>\n",
       "</div>"
      ],
      "text/plain": [
       "     Population  TotalCases  TotalDeaths  TotalRecovered  ActiveCases  \\\n",
       "0  3.311981e+08     5032179     162804.0       2576668.0    2292707.0   \n",
       "1  2.127107e+08     2917562      98644.0       2047660.0     771258.0   \n",
       "2  1.381345e+09     2025409      41638.0       1377384.0     606387.0   \n",
       "3  1.459409e+08      871894      14606.0        676357.0     180931.0   \n",
       "4  5.938157e+07      538184       9604.0        387316.0     141264.0   \n",
       "\n",
       "   Serious,Critical  Tot Cases/1M pop  Deaths/1M pop  TotalTests  \\\n",
       "0           18296.0           15194.0          492.0  63139605.0   \n",
       "1            8318.0           13716.0          464.0  13206188.0   \n",
       "2            8944.0            1466.0           30.0  22149351.0   \n",
       "3            2300.0            5974.0          100.0  29716907.0   \n",
       "4             539.0            9063.0          162.0   3149807.0   \n",
       "\n",
       "   Tests/1M pop  ...  Vietnam  Western Sahara  Yemen  Zambia  Zimbabwe  Asia  \\\n",
       "0      190640.0  ...        0               0      0       0         0     0   \n",
       "1       62085.0  ...        0               0      0       0         0     0   \n",
       "2       16035.0  ...        0               0      0       0         0     1   \n",
       "3      203623.0  ...        0               0      0       0         0     0   \n",
       "4       53044.0  ...        0               0      0       0         0     0   \n",
       "\n",
       "   Australia/Oceania  Europe  North America  South America  \n",
       "0                  0       0              1              0  \n",
       "1                  0       0              0              1  \n",
       "2                  0       0              0              0  \n",
       "3                  0       1              0              0  \n",
       "4                  0       0              0              0  \n",
       "\n",
       "[5 rows x 222 columns]"
      ]
     },
     "execution_count": 1237,
     "metadata": {},
     "output_type": "execute_result"
    }
   ],
   "source": [
    "data.head()"
   ]
  },
  {
   "cell_type": "code",
   "execution_count": 1238,
   "metadata": {},
   "outputs": [
    {
     "name": "stdout",
     "output_type": "stream",
     "text": [
      "<class 'pandas.core.frame.DataFrame'>\n",
      "Int64Index: 208 entries, 0 to 208\n",
      "Columns: 222 entries, Population to South America\n",
      "dtypes: float64(9), int64(1), uint8(212)\n",
      "memory usage: 60.9 KB\n"
     ]
    }
   ],
   "source": [
    "data.info()"
   ]
  },
  {
   "cell_type": "code",
   "execution_count": 1239,
   "metadata": {
    "scrolled": true
   },
   "outputs": [
    {
     "data": {
      "text/html": [
       "<div>\n",
       "<style scoped>\n",
       "    .dataframe tbody tr th:only-of-type {\n",
       "        vertical-align: middle;\n",
       "    }\n",
       "\n",
       "    .dataframe tbody tr th {\n",
       "        vertical-align: top;\n",
       "    }\n",
       "\n",
       "    .dataframe thead th {\n",
       "        text-align: right;\n",
       "    }\n",
       "</style>\n",
       "<table border=\"1\" class=\"dataframe\">\n",
       "  <thead>\n",
       "    <tr style=\"text-align: right;\">\n",
       "      <th></th>\n",
       "      <th>Population</th>\n",
       "      <th>TotalCases</th>\n",
       "      <th>TotalDeaths</th>\n",
       "      <th>TotalRecovered</th>\n",
       "      <th>ActiveCases</th>\n",
       "      <th>Serious,Critical</th>\n",
       "      <th>Tot Cases/1M pop</th>\n",
       "      <th>Deaths/1M pop</th>\n",
       "      <th>TotalTests</th>\n",
       "      <th>Tests/1M pop</th>\n",
       "      <th>...</th>\n",
       "      <th>Vietnam</th>\n",
       "      <th>Western Sahara</th>\n",
       "      <th>Yemen</th>\n",
       "      <th>Zambia</th>\n",
       "      <th>Zimbabwe</th>\n",
       "      <th>Asia</th>\n",
       "      <th>Australia/Oceania</th>\n",
       "      <th>Europe</th>\n",
       "      <th>North America</th>\n",
       "      <th>South America</th>\n",
       "    </tr>\n",
       "  </thead>\n",
       "  <tbody>\n",
       "    <tr>\n",
       "      <th>count</th>\n",
       "      <td>2.080000e+02</td>\n",
       "      <td>2.080000e+02</td>\n",
       "      <td>208.000000</td>\n",
       "      <td>2.080000e+02</td>\n",
       "      <td>2.080000e+02</td>\n",
       "      <td>208.000000</td>\n",
       "      <td>208.000000</td>\n",
       "      <td>208.000000</td>\n",
       "      <td>2.080000e+02</td>\n",
       "      <td>208.000000</td>\n",
       "      <td>...</td>\n",
       "      <td>208.000000</td>\n",
       "      <td>208.000000</td>\n",
       "      <td>208.000000</td>\n",
       "      <td>208.000000</td>\n",
       "      <td>208.000000</td>\n",
       "      <td>208.000000</td>\n",
       "      <td>208.000000</td>\n",
       "      <td>208.000000</td>\n",
       "      <td>208.000000</td>\n",
       "      <td>208.000000</td>\n",
       "    </tr>\n",
       "    <tr>\n",
       "      <th>mean</th>\n",
       "      <td>3.041549e+07</td>\n",
       "      <td>9.215603e+04</td>\n",
       "      <td>3900.836779</td>\n",
       "      <td>5.872039e+04</td>\n",
       "      <td>2.795884e+04</td>\n",
       "      <td>20379.020865</td>\n",
       "      <td>3196.024038</td>\n",
       "      <td>6955.104471</td>\n",
       "      <td>1.289855e+06</td>\n",
       "      <td>79166.970000</td>\n",
       "      <td>...</td>\n",
       "      <td>0.004808</td>\n",
       "      <td>0.004808</td>\n",
       "      <td>0.004808</td>\n",
       "      <td>0.004808</td>\n",
       "      <td>0.004808</td>\n",
       "      <td>0.230769</td>\n",
       "      <td>0.028846</td>\n",
       "      <td>0.230769</td>\n",
       "      <td>0.168269</td>\n",
       "      <td>0.067308</td>\n",
       "    </tr>\n",
       "    <tr>\n",
       "      <th>std</th>\n",
       "      <td>1.047661e+08</td>\n",
       "      <td>4.335840e+05</td>\n",
       "      <td>14760.969426</td>\n",
       "      <td>2.548190e+05</td>\n",
       "      <td>1.733557e+05</td>\n",
       "      <td>33981.163727</td>\n",
       "      <td>5191.986457</td>\n",
       "      <td>25300.937171</td>\n",
       "      <td>5.333873e+06</td>\n",
       "      <td>147390.345433</td>\n",
       "      <td>...</td>\n",
       "      <td>0.069338</td>\n",
       "      <td>0.069338</td>\n",
       "      <td>0.069338</td>\n",
       "      <td>0.069338</td>\n",
       "      <td>0.069338</td>\n",
       "      <td>0.422342</td>\n",
       "      <td>0.167778</td>\n",
       "      <td>0.422342</td>\n",
       "      <td>0.375008</td>\n",
       "      <td>0.251159</td>\n",
       "    </tr>\n",
       "    <tr>\n",
       "      <th>min</th>\n",
       "      <td>8.010000e+02</td>\n",
       "      <td>1.000000e+01</td>\n",
       "      <td>1.000000</td>\n",
       "      <td>7.000000e+00</td>\n",
       "      <td>0.000000e+00</td>\n",
       "      <td>1.000000</td>\n",
       "      <td>3.000000</td>\n",
       "      <td>0.080000</td>\n",
       "      <td>6.100000e+01</td>\n",
       "      <td>4.000000</td>\n",
       "      <td>...</td>\n",
       "      <td>0.000000</td>\n",
       "      <td>0.000000</td>\n",
       "      <td>0.000000</td>\n",
       "      <td>0.000000</td>\n",
       "      <td>0.000000</td>\n",
       "      <td>0.000000</td>\n",
       "      <td>0.000000</td>\n",
       "      <td>0.000000</td>\n",
       "      <td>0.000000</td>\n",
       "      <td>0.000000</td>\n",
       "    </tr>\n",
       "    <tr>\n",
       "      <th>25%</th>\n",
       "      <td>9.663140e+05</td>\n",
       "      <td>7.312500e+02</td>\n",
       "      <td>28.500000</td>\n",
       "      <td>3.385000e+02</td>\n",
       "      <td>8.950000e+01</td>\n",
       "      <td>22.250000</td>\n",
       "      <td>282.000000</td>\n",
       "      <td>7.000000</td>\n",
       "      <td>1.280825e+04</td>\n",
       "      <td>10454.250000</td>\n",
       "      <td>...</td>\n",
       "      <td>0.000000</td>\n",
       "      <td>0.000000</td>\n",
       "      <td>0.000000</td>\n",
       "      <td>0.000000</td>\n",
       "      <td>0.000000</td>\n",
       "      <td>0.000000</td>\n",
       "      <td>0.000000</td>\n",
       "      <td>0.000000</td>\n",
       "      <td>0.000000</td>\n",
       "      <td>0.000000</td>\n",
       "    </tr>\n",
       "    <tr>\n",
       "      <th>50%</th>\n",
       "      <td>7.041972e+06</td>\n",
       "      <td>4.544000e+03</td>\n",
       "      <td>156.500000</td>\n",
       "      <td>2.433500e+03</td>\n",
       "      <td>1.021000e+03</td>\n",
       "      <td>513.000000</td>\n",
       "      <td>1015.000000</td>\n",
       "      <td>36.000000</td>\n",
       "      <td>1.123535e+05</td>\n",
       "      <td>31269.500000</td>\n",
       "      <td>...</td>\n",
       "      <td>0.000000</td>\n",
       "      <td>0.000000</td>\n",
       "      <td>0.000000</td>\n",
       "      <td>0.000000</td>\n",
       "      <td>0.000000</td>\n",
       "      <td>0.000000</td>\n",
       "      <td>0.000000</td>\n",
       "      <td>0.000000</td>\n",
       "      <td>0.000000</td>\n",
       "      <td>0.000000</td>\n",
       "    </tr>\n",
       "    <tr>\n",
       "      <th>75%</th>\n",
       "      <td>2.575614e+07</td>\n",
       "      <td>3.733675e+04</td>\n",
       "      <td>1769.500000</td>\n",
       "      <td>2.622325e+04</td>\n",
       "      <td>8.655000e+03</td>\n",
       "      <td>36075.050000</td>\n",
       "      <td>3841.750000</td>\n",
       "      <td>175.750000</td>\n",
       "      <td>7.001068e+05</td>\n",
       "      <td>83456.500000</td>\n",
       "      <td>...</td>\n",
       "      <td>0.000000</td>\n",
       "      <td>0.000000</td>\n",
       "      <td>0.000000</td>\n",
       "      <td>0.000000</td>\n",
       "      <td>0.000000</td>\n",
       "      <td>0.000000</td>\n",
       "      <td>0.000000</td>\n",
       "      <td>0.000000</td>\n",
       "      <td>0.000000</td>\n",
       "      <td>0.000000</td>\n",
       "    </tr>\n",
       "    <tr>\n",
       "      <th>max</th>\n",
       "      <td>1.381345e+09</td>\n",
       "      <td>5.032179e+06</td>\n",
       "      <td>162804.000000</td>\n",
       "      <td>2.576668e+06</td>\n",
       "      <td>2.292707e+06</td>\n",
       "      <td>222582.140000</td>\n",
       "      <td>39922.000000</td>\n",
       "      <td>222582.140000</td>\n",
       "      <td>6.313960e+07</td>\n",
       "      <td>995282.000000</td>\n",
       "      <td>...</td>\n",
       "      <td>1.000000</td>\n",
       "      <td>1.000000</td>\n",
       "      <td>1.000000</td>\n",
       "      <td>1.000000</td>\n",
       "      <td>1.000000</td>\n",
       "      <td>1.000000</td>\n",
       "      <td>1.000000</td>\n",
       "      <td>1.000000</td>\n",
       "      <td>1.000000</td>\n",
       "      <td>1.000000</td>\n",
       "    </tr>\n",
       "  </tbody>\n",
       "</table>\n",
       "<p>8 rows × 222 columns</p>\n",
       "</div>"
      ],
      "text/plain": [
       "         Population    TotalCases    TotalDeaths  TotalRecovered  \\\n",
       "count  2.080000e+02  2.080000e+02     208.000000    2.080000e+02   \n",
       "mean   3.041549e+07  9.215603e+04    3900.836779    5.872039e+04   \n",
       "std    1.047661e+08  4.335840e+05   14760.969426    2.548190e+05   \n",
       "min    8.010000e+02  1.000000e+01       1.000000    7.000000e+00   \n",
       "25%    9.663140e+05  7.312500e+02      28.500000    3.385000e+02   \n",
       "50%    7.041972e+06  4.544000e+03     156.500000    2.433500e+03   \n",
       "75%    2.575614e+07  3.733675e+04    1769.500000    2.622325e+04   \n",
       "max    1.381345e+09  5.032179e+06  162804.000000    2.576668e+06   \n",
       "\n",
       "        ActiveCases  Serious,Critical  Tot Cases/1M pop  Deaths/1M pop  \\\n",
       "count  2.080000e+02        208.000000        208.000000     208.000000   \n",
       "mean   2.795884e+04      20379.020865       3196.024038    6955.104471   \n",
       "std    1.733557e+05      33981.163727       5191.986457   25300.937171   \n",
       "min    0.000000e+00          1.000000          3.000000       0.080000   \n",
       "25%    8.950000e+01         22.250000        282.000000       7.000000   \n",
       "50%    1.021000e+03        513.000000       1015.000000      36.000000   \n",
       "75%    8.655000e+03      36075.050000       3841.750000     175.750000   \n",
       "max    2.292707e+06     222582.140000      39922.000000  222582.140000   \n",
       "\n",
       "         TotalTests   Tests/1M pop  ...     Vietnam  Western Sahara  \\\n",
       "count  2.080000e+02     208.000000  ...  208.000000      208.000000   \n",
       "mean   1.289855e+06   79166.970000  ...    0.004808        0.004808   \n",
       "std    5.333873e+06  147390.345433  ...    0.069338        0.069338   \n",
       "min    6.100000e+01       4.000000  ...    0.000000        0.000000   \n",
       "25%    1.280825e+04   10454.250000  ...    0.000000        0.000000   \n",
       "50%    1.123535e+05   31269.500000  ...    0.000000        0.000000   \n",
       "75%    7.001068e+05   83456.500000  ...    0.000000        0.000000   \n",
       "max    6.313960e+07  995282.000000  ...    1.000000        1.000000   \n",
       "\n",
       "            Yemen      Zambia    Zimbabwe        Asia  Australia/Oceania  \\\n",
       "count  208.000000  208.000000  208.000000  208.000000         208.000000   \n",
       "mean     0.004808    0.004808    0.004808    0.230769           0.028846   \n",
       "std      0.069338    0.069338    0.069338    0.422342           0.167778   \n",
       "min      0.000000    0.000000    0.000000    0.000000           0.000000   \n",
       "25%      0.000000    0.000000    0.000000    0.000000           0.000000   \n",
       "50%      0.000000    0.000000    0.000000    0.000000           0.000000   \n",
       "75%      0.000000    0.000000    0.000000    0.000000           0.000000   \n",
       "max      1.000000    1.000000    1.000000    1.000000           1.000000   \n",
       "\n",
       "           Europe  North America  South America  \n",
       "count  208.000000     208.000000     208.000000  \n",
       "mean     0.230769       0.168269       0.067308  \n",
       "std      0.422342       0.375008       0.251159  \n",
       "min      0.000000       0.000000       0.000000  \n",
       "25%      0.000000       0.000000       0.000000  \n",
       "50%      0.000000       0.000000       0.000000  \n",
       "75%      0.000000       0.000000       0.000000  \n",
       "max      1.000000       1.000000       1.000000  \n",
       "\n",
       "[8 rows x 222 columns]"
      ]
     },
     "execution_count": 1239,
     "metadata": {},
     "output_type": "execute_result"
    }
   ],
   "source": [
    "data.describe()"
   ]
  },
  {
   "cell_type": "markdown",
   "metadata": {},
   "source": [
    "Scale Data"
   ]
  },
  {
   "cell_type": "code",
   "execution_count": 1240,
   "metadata": {},
   "outputs": [],
   "source": [
    "from sklearn.preprocessing import StandardScaler\n",
    "scaler = StandardScaler()\n",
    "data_scaled = scaler.fit_transform(data)"
   ]
  },
  {
   "cell_type": "code",
   "execution_count": 1241,
   "metadata": {},
   "outputs": [
    {
     "data": {
      "text/plain": [
       "array([[ 2.8779185 , 11.4209507 , 10.79106123, ..., -0.54772256,\n",
       "         2.22325373, -0.26863534],\n",
       "       [ 1.74421881,  6.53211989,  6.43397686, ..., -0.54772256,\n",
       "        -0.44979122,  3.72251835],\n",
       "       [12.92582906,  4.46953122,  2.56271827, ..., -0.54772256,\n",
       "        -0.44979122, -0.26863534],\n",
       "       ...,\n",
       "       [-0.29098505, -0.21302755,  0.54418688, ..., -0.54772256,\n",
       "        -0.44979122,  3.72251835],\n",
       "       [-0.29101077, -0.21302986,  0.04481177, ...,  1.82574186,\n",
       "        -0.44979122, -0.26863534],\n",
       "       [-0.28529018, -0.21303449, -0.26483663, ..., -0.54772256,\n",
       "        -0.44979122, -0.26863534]])"
      ]
     },
     "execution_count": 1241,
     "metadata": {},
     "output_type": "execute_result"
    }
   ],
   "source": [
    "data_scaled"
   ]
  },
  {
   "cell_type": "code",
   "execution_count": 1242,
   "metadata": {},
   "outputs": [
    {
     "data": {
      "text/html": [
       "<div>\n",
       "<style scoped>\n",
       "    .dataframe tbody tr th:only-of-type {\n",
       "        vertical-align: middle;\n",
       "    }\n",
       "\n",
       "    .dataframe tbody tr th {\n",
       "        vertical-align: top;\n",
       "    }\n",
       "\n",
       "    .dataframe thead th {\n",
       "        text-align: right;\n",
       "    }\n",
       "</style>\n",
       "<table border=\"1\" class=\"dataframe\">\n",
       "  <thead>\n",
       "    <tr style=\"text-align: right;\">\n",
       "      <th></th>\n",
       "      <th>Population</th>\n",
       "      <th>TotalCases</th>\n",
       "      <th>TotalDeaths</th>\n",
       "      <th>TotalRecovered</th>\n",
       "      <th>ActiveCases</th>\n",
       "      <th>Serious,Critical</th>\n",
       "      <th>Tot Cases/1M pop</th>\n",
       "      <th>Deaths/1M pop</th>\n",
       "      <th>TotalTests</th>\n",
       "      <th>Tests/1M pop</th>\n",
       "      <th>...</th>\n",
       "      <th>Vietnam</th>\n",
       "      <th>Western Sahara</th>\n",
       "      <th>Yemen</th>\n",
       "      <th>Zambia</th>\n",
       "      <th>Zimbabwe</th>\n",
       "      <th>Asia</th>\n",
       "      <th>Australia/Oceania</th>\n",
       "      <th>Europe</th>\n",
       "      <th>North America</th>\n",
       "      <th>South America</th>\n",
       "    </tr>\n",
       "  </thead>\n",
       "  <tbody>\n",
       "    <tr>\n",
       "      <th>0</th>\n",
       "      <td>2.877918</td>\n",
       "      <td>11.420951</td>\n",
       "      <td>10.791061</td>\n",
       "      <td>9.905157</td>\n",
       "      <td>13.095685</td>\n",
       "      <td>-0.061447</td>\n",
       "      <td>2.316439</td>\n",
       "      <td>-0.256065</td>\n",
       "      <td>11.623630</td>\n",
       "      <td>0.758136</td>\n",
       "      <td>...</td>\n",
       "      <td>-0.069505</td>\n",
       "      <td>-0.069505</td>\n",
       "      <td>-0.069505</td>\n",
       "      <td>-0.069505</td>\n",
       "      <td>-0.069505</td>\n",
       "      <td>-0.547723</td>\n",
       "      <td>-0.172345</td>\n",
       "      <td>-0.547723</td>\n",
       "      <td>2.223254</td>\n",
       "      <td>-0.268635</td>\n",
       "    </tr>\n",
       "    <tr>\n",
       "      <th>1</th>\n",
       "      <td>1.744219</td>\n",
       "      <td>6.532120</td>\n",
       "      <td>6.433977</td>\n",
       "      <td>7.824134</td>\n",
       "      <td>4.298055</td>\n",
       "      <td>-0.355789</td>\n",
       "      <td>2.031083</td>\n",
       "      <td>-0.257175</td>\n",
       "      <td>2.239476</td>\n",
       "      <td>-0.116176</td>\n",
       "      <td>...</td>\n",
       "      <td>-0.069505</td>\n",
       "      <td>-0.069505</td>\n",
       "      <td>-0.069505</td>\n",
       "      <td>-0.069505</td>\n",
       "      <td>-0.069505</td>\n",
       "      <td>-0.547723</td>\n",
       "      <td>-0.172345</td>\n",
       "      <td>-0.547723</td>\n",
       "      <td>-0.449791</td>\n",
       "      <td>3.722518</td>\n",
       "    </tr>\n",
       "    <tr>\n",
       "      <th>2</th>\n",
       "      <td>12.925829</td>\n",
       "      <td>4.469531</td>\n",
       "      <td>2.562718</td>\n",
       "      <td>5.187387</td>\n",
       "      <td>3.344704</td>\n",
       "      <td>-0.337322</td>\n",
       "      <td>-0.334014</td>\n",
       "      <td>-0.274370</td>\n",
       "      <td>3.920195</td>\n",
       "      <td>-0.429365</td>\n",
       "      <td>...</td>\n",
       "      <td>-0.069505</td>\n",
       "      <td>-0.069505</td>\n",
       "      <td>-0.069505</td>\n",
       "      <td>-0.069505</td>\n",
       "      <td>-0.069505</td>\n",
       "      <td>1.825742</td>\n",
       "      <td>-0.172345</td>\n",
       "      <td>-0.547723</td>\n",
       "      <td>-0.449791</td>\n",
       "      <td>-0.268635</td>\n",
       "    </tr>\n",
       "    <tr>\n",
       "      <th>3</th>\n",
       "      <td>1.105359</td>\n",
       "      <td>1.802694</td>\n",
       "      <td>0.726984</td>\n",
       "      <td>2.429672</td>\n",
       "      <td>0.884547</td>\n",
       "      <td>-0.533314</td>\n",
       "      <td>0.536342</td>\n",
       "      <td>-0.271596</td>\n",
       "      <td>5.342391</td>\n",
       "      <td>0.846435</td>\n",
       "      <td>...</td>\n",
       "      <td>-0.069505</td>\n",
       "      <td>-0.069505</td>\n",
       "      <td>-0.069505</td>\n",
       "      <td>-0.069505</td>\n",
       "      <td>-0.069505</td>\n",
       "      <td>-0.547723</td>\n",
       "      <td>-0.172345</td>\n",
       "      <td>1.825742</td>\n",
       "      <td>-0.449791</td>\n",
       "      <td>-0.268635</td>\n",
       "    </tr>\n",
       "    <tr>\n",
       "      <th>4</th>\n",
       "      <td>0.277150</td>\n",
       "      <td>1.031182</td>\n",
       "      <td>0.387300</td>\n",
       "      <td>1.292637</td>\n",
       "      <td>0.655176</td>\n",
       "      <td>-0.585262</td>\n",
       "      <td>1.132732</td>\n",
       "      <td>-0.269140</td>\n",
       "      <td>0.349547</td>\n",
       "      <td>-0.177664</td>\n",
       "      <td>...</td>\n",
       "      <td>-0.069505</td>\n",
       "      <td>-0.069505</td>\n",
       "      <td>-0.069505</td>\n",
       "      <td>-0.069505</td>\n",
       "      <td>-0.069505</td>\n",
       "      <td>-0.547723</td>\n",
       "      <td>-0.172345</td>\n",
       "      <td>-0.547723</td>\n",
       "      <td>-0.449791</td>\n",
       "      <td>-0.268635</td>\n",
       "    </tr>\n",
       "  </tbody>\n",
       "</table>\n",
       "<p>5 rows × 222 columns</p>\n",
       "</div>"
      ],
      "text/plain": [
       "   Population  TotalCases  TotalDeaths  TotalRecovered  ActiveCases  \\\n",
       "0    2.877918   11.420951    10.791061        9.905157    13.095685   \n",
       "1    1.744219    6.532120     6.433977        7.824134     4.298055   \n",
       "2   12.925829    4.469531     2.562718        5.187387     3.344704   \n",
       "3    1.105359    1.802694     0.726984        2.429672     0.884547   \n",
       "4    0.277150    1.031182     0.387300        1.292637     0.655176   \n",
       "\n",
       "   Serious,Critical  Tot Cases/1M pop  Deaths/1M pop  TotalTests  \\\n",
       "0         -0.061447          2.316439      -0.256065   11.623630   \n",
       "1         -0.355789          2.031083      -0.257175    2.239476   \n",
       "2         -0.337322         -0.334014      -0.274370    3.920195   \n",
       "3         -0.533314          0.536342      -0.271596    5.342391   \n",
       "4         -0.585262          1.132732      -0.269140    0.349547   \n",
       "\n",
       "   Tests/1M pop  ...   Vietnam  Western Sahara     Yemen    Zambia  Zimbabwe  \\\n",
       "0      0.758136  ... -0.069505       -0.069505 -0.069505 -0.069505 -0.069505   \n",
       "1     -0.116176  ... -0.069505       -0.069505 -0.069505 -0.069505 -0.069505   \n",
       "2     -0.429365  ... -0.069505       -0.069505 -0.069505 -0.069505 -0.069505   \n",
       "3      0.846435  ... -0.069505       -0.069505 -0.069505 -0.069505 -0.069505   \n",
       "4     -0.177664  ... -0.069505       -0.069505 -0.069505 -0.069505 -0.069505   \n",
       "\n",
       "       Asia  Australia/Oceania    Europe  North America  South America  \n",
       "0 -0.547723          -0.172345 -0.547723       2.223254      -0.268635  \n",
       "1 -0.547723          -0.172345 -0.547723      -0.449791       3.722518  \n",
       "2  1.825742          -0.172345 -0.547723      -0.449791      -0.268635  \n",
       "3 -0.547723          -0.172345  1.825742      -0.449791      -0.268635  \n",
       "4 -0.547723          -0.172345 -0.547723      -0.449791      -0.268635  \n",
       "\n",
       "[5 rows x 222 columns]"
      ]
     },
     "execution_count": 1242,
     "metadata": {},
     "output_type": "execute_result"
    }
   ],
   "source": [
    "data_scaled =pd.DataFrame(data_scaled, columns=data.columns)\n",
    "data_scaled.head()"
   ]
  },
  {
   "cell_type": "code",
   "execution_count": 1243,
   "metadata": {},
   "outputs": [
    {
     "name": "stdout",
     "output_type": "stream",
     "text": [
      "<class 'pandas.core.frame.DataFrame'>\n",
      "RangeIndex: 208 entries, 0 to 207\n",
      "Columns: 222 entries, Population to South America\n",
      "dtypes: float64(222)\n",
      "memory usage: 360.9 KB\n"
     ]
    }
   ],
   "source": [
    "data_scaled.info()"
   ]
  },
  {
   "cell_type": "code",
   "execution_count": 1244,
   "metadata": {},
   "outputs": [
    {
     "data": {
      "text/plain": [
       "count    2.080000e+02\n",
       "mean    -7.205774e-17\n",
       "std      1.002413e+00\n",
       "min     -2.130345e-01\n",
       "25%     -2.113670e-01\n",
       "50%     -2.025522e-01\n",
       "75%     -1.267379e-01\n",
       "max      1.142095e+01\n",
       "Name: TotalCases, dtype: float64"
      ]
     },
     "execution_count": 1244,
     "metadata": {},
     "output_type": "execute_result"
    }
   ],
   "source": [
    "data_scaled['TotalCases'].describe()"
   ]
  },
  {
   "cell_type": "markdown",
   "metadata": {},
   "source": [
    "# K Clustering for Descriptive Analytics"
   ]
  },
  {
   "cell_type": "code",
   "execution_count": 1245,
   "metadata": {},
   "outputs": [],
   "source": [
    "from sklearn.cluster import KMeans"
   ]
  },
  {
   "cell_type": "code",
   "execution_count": 1246,
   "metadata": {},
   "outputs": [],
   "source": [
    "X = data_scaled"
   ]
  },
  {
   "cell_type": "code",
   "execution_count": 1247,
   "metadata": {},
   "outputs": [],
   "source": [
    "kmeans = KMeans(n_clusters = 3, init = 'k-means++',random_state=42)"
   ]
  },
  {
   "cell_type": "code",
   "execution_count": 1248,
   "metadata": {},
   "outputs": [
    {
     "data": {
      "text/plain": [
       "KMeans(n_clusters=3, random_state=42)"
      ]
     },
     "execution_count": 1248,
     "metadata": {},
     "output_type": "execute_result"
    }
   ],
   "source": [
    "kmeans.fit(X)"
   ]
  },
  {
   "cell_type": "code",
   "execution_count": 1249,
   "metadata": {},
   "outputs": [],
   "source": [
    "pred=kmeans.predict(X)"
   ]
  },
  {
   "cell_type": "code",
   "execution_count": 1250,
   "metadata": {},
   "outputs": [
    {
     "data": {
      "text/plain": [
       "0.01263673316882202"
      ]
     },
     "execution_count": 1250,
     "metadata": {},
     "output_type": "execute_result"
    }
   ],
   "source": [
    "from sklearn import metrics\n",
    "metrics.silhouette_score(X, pred)"
   ]
  },
  {
   "cell_type": "markdown",
   "metadata": {},
   "source": [
    "This score is closer to 1 than 0, indicating strong clustering relationship"
   ]
  },
  {
   "cell_type": "markdown",
   "metadata": {},
   "source": [
    "### Elbow Method"
   ]
  },
  {
   "cell_type": "code",
   "execution_count": 1251,
   "metadata": {},
   "outputs": [],
   "source": [
    "wcss = []\n",
    "for i in range(1, 12):\n",
    "    kmeans = KMeans(n_clusters = i, init = 'k-means++', random_state = 42)\n",
    "    kmeans.fit(X)\n",
    "    pred=kmeans.predict(X)\n",
    "    wcss.append(kmeans.inertia_)"
   ]
  },
  {
   "cell_type": "code",
   "execution_count": 1252,
   "metadata": {},
   "outputs": [
    {
     "data": {
      "image/png": "[encoded data removed]",
      "text/plain": [
       "<Figure size 432x288 with 1 Axes>"
      ]
     },
     "metadata": {
      "needs_background": "light"
     },
     "output_type": "display_data"
    }
   ],
   "source": [
    "plt.plot(range(1, 12), wcss,marker='o')\n",
    "plt.title('The Elbow Method')\n",
    "plt.xlabel('Number of clusters')\n",
    "plt.ylabel('WCSS')\n",
    "plt.show()"
   ]
  },
  {
   "cell_type": "markdown",
   "metadata": {},
   "source": [
    "The elbow method bends around 3 clusters, indicating that the data naturally seperates into three groups."
   ]
  },
  {
   "cell_type": "markdown",
   "metadata": {},
   "source": [
    "### Silhoutte scores"
   ]
  },
  {
   "cell_type": "code",
   "execution_count": 1253,
   "metadata": {},
   "outputs": [],
   "source": [
    "s_score = []\n",
    "for i in range(2, 12):\n",
    "    kmeans = KMeans(n_clusters = i, init = 'k-means++', random_state = 42)\n",
    "    kmeans.fit(X)\n",
    "    pred=kmeans.predict(X)\n",
    "    s_score.append(metrics.silhouette_score(X, pred))"
   ]
  },
  {
   "cell_type": "code",
   "execution_count": 1254,
   "metadata": {},
   "outputs": [
    {
     "data": {
      "image/png": "[encoded data removed]",
      "text/plain": [
       "<Figure size 432x288 with 1 Axes>"
      ]
     },
     "metadata": {
      "needs_background": "light"
     },
     "output_type": "display_data"
    }
   ],
   "source": [
    "plt.plot(range(2, 12), s_score,marker='o')\n",
    "plt.title('The Silhoutte Score')\n",
    "plt.xlabel('Number of clusters')\n",
    "plt.ylabel('Silhoutte Score')\n",
    "plt.show()"
   ]
  },
  {
   "cell_type": "markdown",
   "metadata": {},
   "source": [
    "According to the Silhouette score, the optimal number of clusters is two as this is where the Silhouette Score is optimized. Typically, the Silhouette Score confirms the elbow method, although this analysis differs slightly."
   ]
  },
  {
   "cell_type": "code",
   "execution_count": 1255,
   "metadata": {},
   "outputs": [],
   "source": [
    "kmeans = KMeans(n_clusters = 2, init = 'k-means++', random_state = 42)\n",
    "kmeans.fit(X)\n",
    "pred = kmeans.predict(X)"
   ]
  },
  {
   "cell_type": "code",
   "execution_count": 1256,
   "metadata": {},
   "outputs": [
    {
     "data": {
      "text/plain": [
       "array([1, 1, 1, 1, 0, 0, 0, 0, 0, 0, 0, 0, 0, 0, 0, 0, 0, 0, 0, 0, 0, 0,\n",
       "       0, 0, 0, 0, 0, 0, 0, 0, 0, 0, 0, 0, 0, 0, 0, 0, 0, 0, 0, 0, 0, 0,\n",
       "       0, 0, 0, 0, 0, 0, 0, 0, 0, 0, 0, 0, 0, 0, 0, 0, 0, 0, 0, 0, 0, 0,\n",
       "       0, 0, 0, 0, 0, 0, 0, 0, 0, 0, 0, 0, 0, 0, 0, 0, 0, 0, 0, 0, 0, 0,\n",
       "       0, 0, 0, 0, 0, 0, 0, 0, 0, 0, 0, 0, 0, 0, 0, 0, 0, 0, 0, 0, 0, 0,\n",
       "       0, 0, 0, 0, 0, 0, 0, 0, 0, 0, 0, 0, 0, 0, 0, 0, 0, 0, 0, 0, 0, 0,\n",
       "       0, 0, 0, 0, 0, 0, 0, 0, 0, 0, 0, 0, 0, 0, 0, 0, 0, 0, 0, 0, 0, 0,\n",
       "       0, 0, 0, 0, 0, 0, 0, 0, 0, 0, 0, 0, 0, 0, 0, 0, 0, 0, 0, 0, 0, 0,\n",
       "       0, 0, 0, 0, 0, 0, 0, 0, 0, 0, 0, 0, 0, 0, 0, 0, 0, 0, 0, 0, 0, 0,\n",
       "       0, 0, 0, 0, 0, 0, 0, 0, 0, 0])"
      ]
     },
     "execution_count": 1256,
     "metadata": {},
     "output_type": "execute_result"
    }
   ],
   "source": [
    "pred"
   ]
  },
  {
   "cell_type": "code",
   "execution_count": 1257,
   "metadata": {},
   "outputs": [
    {
     "data": {
      "text/html": [
       "<div>\n",
       "<style scoped>\n",
       "    .dataframe tbody tr th:only-of-type {\n",
       "        vertical-align: middle;\n",
       "    }\n",
       "\n",
       "    .dataframe tbody tr th {\n",
       "        vertical-align: top;\n",
       "    }\n",
       "\n",
       "    .dataframe thead th {\n",
       "        text-align: right;\n",
       "    }\n",
       "</style>\n",
       "<table border=\"1\" class=\"dataframe\">\n",
       "  <thead>\n",
       "    <tr style=\"text-align: right;\">\n",
       "      <th></th>\n",
       "      <th>Population</th>\n",
       "      <th>TotalCases</th>\n",
       "      <th>TotalDeaths</th>\n",
       "      <th>TotalRecovered</th>\n",
       "      <th>ActiveCases</th>\n",
       "      <th>Serious,Critical</th>\n",
       "      <th>Tot Cases/1M pop</th>\n",
       "      <th>Deaths/1M pop</th>\n",
       "      <th>TotalTests</th>\n",
       "      <th>Tests/1M pop</th>\n",
       "      <th>...</th>\n",
       "      <th>Vietnam</th>\n",
       "      <th>Western Sahara</th>\n",
       "      <th>Yemen</th>\n",
       "      <th>Zambia</th>\n",
       "      <th>Zimbabwe</th>\n",
       "      <th>Asia</th>\n",
       "      <th>Australia/Oceania</th>\n",
       "      <th>Europe</th>\n",
       "      <th>North America</th>\n",
       "      <th>South America</th>\n",
       "    </tr>\n",
       "  </thead>\n",
       "  <tbody>\n",
       "    <tr>\n",
       "      <th>0</th>\n",
       "      <td>2.877918</td>\n",
       "      <td>11.420951</td>\n",
       "      <td>10.791061</td>\n",
       "      <td>9.905157</td>\n",
       "      <td>13.095685</td>\n",
       "      <td>-0.061447</td>\n",
       "      <td>2.316439</td>\n",
       "      <td>-0.256065</td>\n",
       "      <td>11.623630</td>\n",
       "      <td>0.758136</td>\n",
       "      <td>...</td>\n",
       "      <td>-0.069505</td>\n",
       "      <td>-0.069505</td>\n",
       "      <td>-0.069505</td>\n",
       "      <td>-0.069505</td>\n",
       "      <td>-0.069505</td>\n",
       "      <td>-0.547723</td>\n",
       "      <td>-0.172345</td>\n",
       "      <td>-0.547723</td>\n",
       "      <td>2.223254</td>\n",
       "      <td>-0.268635</td>\n",
       "    </tr>\n",
       "    <tr>\n",
       "      <th>1</th>\n",
       "      <td>1.744219</td>\n",
       "      <td>6.532120</td>\n",
       "      <td>6.433977</td>\n",
       "      <td>7.824134</td>\n",
       "      <td>4.298055</td>\n",
       "      <td>-0.355789</td>\n",
       "      <td>2.031083</td>\n",
       "      <td>-0.257175</td>\n",
       "      <td>2.239476</td>\n",
       "      <td>-0.116176</td>\n",
       "      <td>...</td>\n",
       "      <td>-0.069505</td>\n",
       "      <td>-0.069505</td>\n",
       "      <td>-0.069505</td>\n",
       "      <td>-0.069505</td>\n",
       "      <td>-0.069505</td>\n",
       "      <td>-0.547723</td>\n",
       "      <td>-0.172345</td>\n",
       "      <td>-0.547723</td>\n",
       "      <td>-0.449791</td>\n",
       "      <td>3.722518</td>\n",
       "    </tr>\n",
       "    <tr>\n",
       "      <th>2</th>\n",
       "      <td>12.925829</td>\n",
       "      <td>4.469531</td>\n",
       "      <td>2.562718</td>\n",
       "      <td>5.187387</td>\n",
       "      <td>3.344704</td>\n",
       "      <td>-0.337322</td>\n",
       "      <td>-0.334014</td>\n",
       "      <td>-0.274370</td>\n",
       "      <td>3.920195</td>\n",
       "      <td>-0.429365</td>\n",
       "      <td>...</td>\n",
       "      <td>-0.069505</td>\n",
       "      <td>-0.069505</td>\n",
       "      <td>-0.069505</td>\n",
       "      <td>-0.069505</td>\n",
       "      <td>-0.069505</td>\n",
       "      <td>1.825742</td>\n",
       "      <td>-0.172345</td>\n",
       "      <td>-0.547723</td>\n",
       "      <td>-0.449791</td>\n",
       "      <td>-0.268635</td>\n",
       "    </tr>\n",
       "    <tr>\n",
       "      <th>3</th>\n",
       "      <td>1.105359</td>\n",
       "      <td>1.802694</td>\n",
       "      <td>0.726984</td>\n",
       "      <td>2.429672</td>\n",
       "      <td>0.884547</td>\n",
       "      <td>-0.533314</td>\n",
       "      <td>0.536342</td>\n",
       "      <td>-0.271596</td>\n",
       "      <td>5.342391</td>\n",
       "      <td>0.846435</td>\n",
       "      <td>...</td>\n",
       "      <td>-0.069505</td>\n",
       "      <td>-0.069505</td>\n",
       "      <td>-0.069505</td>\n",
       "      <td>-0.069505</td>\n",
       "      <td>-0.069505</td>\n",
       "      <td>-0.547723</td>\n",
       "      <td>-0.172345</td>\n",
       "      <td>1.825742</td>\n",
       "      <td>-0.449791</td>\n",
       "      <td>-0.268635</td>\n",
       "    </tr>\n",
       "    <tr>\n",
       "      <th>4</th>\n",
       "      <td>0.277150</td>\n",
       "      <td>1.031182</td>\n",
       "      <td>0.387300</td>\n",
       "      <td>1.292637</td>\n",
       "      <td>0.655176</td>\n",
       "      <td>-0.585262</td>\n",
       "      <td>1.132732</td>\n",
       "      <td>-0.269140</td>\n",
       "      <td>0.349547</td>\n",
       "      <td>-0.177664</td>\n",
       "      <td>...</td>\n",
       "      <td>-0.069505</td>\n",
       "      <td>-0.069505</td>\n",
       "      <td>-0.069505</td>\n",
       "      <td>-0.069505</td>\n",
       "      <td>-0.069505</td>\n",
       "      <td>-0.547723</td>\n",
       "      <td>-0.172345</td>\n",
       "      <td>-0.547723</td>\n",
       "      <td>-0.449791</td>\n",
       "      <td>-0.268635</td>\n",
       "    </tr>\n",
       "  </tbody>\n",
       "</table>\n",
       "<p>5 rows × 222 columns</p>\n",
       "</div>"
      ],
      "text/plain": [
       "   Population  TotalCases  TotalDeaths  TotalRecovered  ActiveCases  \\\n",
       "0    2.877918   11.420951    10.791061        9.905157    13.095685   \n",
       "1    1.744219    6.532120     6.433977        7.824134     4.298055   \n",
       "2   12.925829    4.469531     2.562718        5.187387     3.344704   \n",
       "3    1.105359    1.802694     0.726984        2.429672     0.884547   \n",
       "4    0.277150    1.031182     0.387300        1.292637     0.655176   \n",
       "\n",
       "   Serious,Critical  Tot Cases/1M pop  Deaths/1M pop  TotalTests  \\\n",
       "0         -0.061447          2.316439      -0.256065   11.623630   \n",
       "1         -0.355789          2.031083      -0.257175    2.239476   \n",
       "2         -0.337322         -0.334014      -0.274370    3.920195   \n",
       "3         -0.533314          0.536342      -0.271596    5.342391   \n",
       "4         -0.585262          1.132732      -0.269140    0.349547   \n",
       "\n",
       "   Tests/1M pop  ...   Vietnam  Western Sahara     Yemen    Zambia  Zimbabwe  \\\n",
       "0      0.758136  ... -0.069505       -0.069505 -0.069505 -0.069505 -0.069505   \n",
       "1     -0.116176  ... -0.069505       -0.069505 -0.069505 -0.069505 -0.069505   \n",
       "2     -0.429365  ... -0.069505       -0.069505 -0.069505 -0.069505 -0.069505   \n",
       "3      0.846435  ... -0.069505       -0.069505 -0.069505 -0.069505 -0.069505   \n",
       "4     -0.177664  ... -0.069505       -0.069505 -0.069505 -0.069505 -0.069505   \n",
       "\n",
       "       Asia  Australia/Oceania    Europe  North America  South America  \n",
       "0 -0.547723          -0.172345 -0.547723       2.223254      -0.268635  \n",
       "1 -0.547723          -0.172345 -0.547723      -0.449791       3.722518  \n",
       "2  1.825742          -0.172345 -0.547723      -0.449791      -0.268635  \n",
       "3 -0.547723          -0.172345  1.825742      -0.449791      -0.268635  \n",
       "4 -0.547723          -0.172345 -0.547723      -0.449791      -0.268635  \n",
       "\n",
       "[5 rows x 222 columns]"
      ]
     },
     "execution_count": 1257,
     "metadata": {},
     "output_type": "execute_result"
    }
   ],
   "source": [
    "data_scaled.head()"
   ]
  },
  {
   "cell_type": "code",
   "execution_count": 1258,
   "metadata": {},
   "outputs": [],
   "source": [
    "data_scaled['cluster'] = pred"
   ]
  },
  {
   "cell_type": "code",
   "execution_count": 1259,
   "metadata": {},
   "outputs": [
    {
     "data": {
      "text/html": [
       "<div>\n",
       "<style scoped>\n",
       "    .dataframe tbody tr th:only-of-type {\n",
       "        vertical-align: middle;\n",
       "    }\n",
       "\n",
       "    .dataframe tbody tr th {\n",
       "        vertical-align: top;\n",
       "    }\n",
       "\n",
       "    .dataframe thead th {\n",
       "        text-align: right;\n",
       "    }\n",
       "</style>\n",
       "<table border=\"1\" class=\"dataframe\">\n",
       "  <thead>\n",
       "    <tr style=\"text-align: right;\">\n",
       "      <th></th>\n",
       "      <th>Population</th>\n",
       "      <th>TotalCases</th>\n",
       "      <th>TotalDeaths</th>\n",
       "      <th>TotalRecovered</th>\n",
       "      <th>ActiveCases</th>\n",
       "      <th>Serious,Critical</th>\n",
       "      <th>Tot Cases/1M pop</th>\n",
       "      <th>Deaths/1M pop</th>\n",
       "      <th>TotalTests</th>\n",
       "      <th>Tests/1M pop</th>\n",
       "      <th>...</th>\n",
       "      <th>Western Sahara</th>\n",
       "      <th>Yemen</th>\n",
       "      <th>Zambia</th>\n",
       "      <th>Zimbabwe</th>\n",
       "      <th>Asia</th>\n",
       "      <th>Australia/Oceania</th>\n",
       "      <th>Europe</th>\n",
       "      <th>North America</th>\n",
       "      <th>South America</th>\n",
       "      <th>cluster</th>\n",
       "    </tr>\n",
       "  </thead>\n",
       "  <tbody>\n",
       "    <tr>\n",
       "      <th>0</th>\n",
       "      <td>2.877918</td>\n",
       "      <td>11.420951</td>\n",
       "      <td>10.791061</td>\n",
       "      <td>9.905157</td>\n",
       "      <td>13.095685</td>\n",
       "      <td>-0.061447</td>\n",
       "      <td>2.316439</td>\n",
       "      <td>-0.256065</td>\n",
       "      <td>11.623630</td>\n",
       "      <td>0.758136</td>\n",
       "      <td>...</td>\n",
       "      <td>-0.069505</td>\n",
       "      <td>-0.069505</td>\n",
       "      <td>-0.069505</td>\n",
       "      <td>-0.069505</td>\n",
       "      <td>-0.547723</td>\n",
       "      <td>-0.172345</td>\n",
       "      <td>-0.547723</td>\n",
       "      <td>2.223254</td>\n",
       "      <td>-0.268635</td>\n",
       "      <td>1</td>\n",
       "    </tr>\n",
       "    <tr>\n",
       "      <th>1</th>\n",
       "      <td>1.744219</td>\n",
       "      <td>6.532120</td>\n",
       "      <td>6.433977</td>\n",
       "      <td>7.824134</td>\n",
       "      <td>4.298055</td>\n",
       "      <td>-0.355789</td>\n",
       "      <td>2.031083</td>\n",
       "      <td>-0.257175</td>\n",
       "      <td>2.239476</td>\n",
       "      <td>-0.116176</td>\n",
       "      <td>...</td>\n",
       "      <td>-0.069505</td>\n",
       "      <td>-0.069505</td>\n",
       "      <td>-0.069505</td>\n",
       "      <td>-0.069505</td>\n",
       "      <td>-0.547723</td>\n",
       "      <td>-0.172345</td>\n",
       "      <td>-0.547723</td>\n",
       "      <td>-0.449791</td>\n",
       "      <td>3.722518</td>\n",
       "      <td>1</td>\n",
       "    </tr>\n",
       "    <tr>\n",
       "      <th>2</th>\n",
       "      <td>12.925829</td>\n",
       "      <td>4.469531</td>\n",
       "      <td>2.562718</td>\n",
       "      <td>5.187387</td>\n",
       "      <td>3.344704</td>\n",
       "      <td>-0.337322</td>\n",
       "      <td>-0.334014</td>\n",
       "      <td>-0.274370</td>\n",
       "      <td>3.920195</td>\n",
       "      <td>-0.429365</td>\n",
       "      <td>...</td>\n",
       "      <td>-0.069505</td>\n",
       "      <td>-0.069505</td>\n",
       "      <td>-0.069505</td>\n",
       "      <td>-0.069505</td>\n",
       "      <td>1.825742</td>\n",
       "      <td>-0.172345</td>\n",
       "      <td>-0.547723</td>\n",
       "      <td>-0.449791</td>\n",
       "      <td>-0.268635</td>\n",
       "      <td>1</td>\n",
       "    </tr>\n",
       "    <tr>\n",
       "      <th>3</th>\n",
       "      <td>1.105359</td>\n",
       "      <td>1.802694</td>\n",
       "      <td>0.726984</td>\n",
       "      <td>2.429672</td>\n",
       "      <td>0.884547</td>\n",
       "      <td>-0.533314</td>\n",
       "      <td>0.536342</td>\n",
       "      <td>-0.271596</td>\n",
       "      <td>5.342391</td>\n",
       "      <td>0.846435</td>\n",
       "      <td>...</td>\n",
       "      <td>-0.069505</td>\n",
       "      <td>-0.069505</td>\n",
       "      <td>-0.069505</td>\n",
       "      <td>-0.069505</td>\n",
       "      <td>-0.547723</td>\n",
       "      <td>-0.172345</td>\n",
       "      <td>1.825742</td>\n",
       "      <td>-0.449791</td>\n",
       "      <td>-0.268635</td>\n",
       "      <td>1</td>\n",
       "    </tr>\n",
       "    <tr>\n",
       "      <th>4</th>\n",
       "      <td>0.277150</td>\n",
       "      <td>1.031182</td>\n",
       "      <td>0.387300</td>\n",
       "      <td>1.292637</td>\n",
       "      <td>0.655176</td>\n",
       "      <td>-0.585262</td>\n",
       "      <td>1.132732</td>\n",
       "      <td>-0.269140</td>\n",
       "      <td>0.349547</td>\n",
       "      <td>-0.177664</td>\n",
       "      <td>...</td>\n",
       "      <td>-0.069505</td>\n",
       "      <td>-0.069505</td>\n",
       "      <td>-0.069505</td>\n",
       "      <td>-0.069505</td>\n",
       "      <td>-0.547723</td>\n",
       "      <td>-0.172345</td>\n",
       "      <td>-0.547723</td>\n",
       "      <td>-0.449791</td>\n",
       "      <td>-0.268635</td>\n",
       "      <td>0</td>\n",
       "    </tr>\n",
       "  </tbody>\n",
       "</table>\n",
       "<p>5 rows × 223 columns</p>\n",
       "</div>"
      ],
      "text/plain": [
       "   Population  TotalCases  TotalDeaths  TotalRecovered  ActiveCases  \\\n",
       "0    2.877918   11.420951    10.791061        9.905157    13.095685   \n",
       "1    1.744219    6.532120     6.433977        7.824134     4.298055   \n",
       "2   12.925829    4.469531     2.562718        5.187387     3.344704   \n",
       "3    1.105359    1.802694     0.726984        2.429672     0.884547   \n",
       "4    0.277150    1.031182     0.387300        1.292637     0.655176   \n",
       "\n",
       "   Serious,Critical  Tot Cases/1M pop  Deaths/1M pop  TotalTests  \\\n",
       "0         -0.061447          2.316439      -0.256065   11.623630   \n",
       "1         -0.355789          2.031083      -0.257175    2.239476   \n",
       "2         -0.337322         -0.334014      -0.274370    3.920195   \n",
       "3         -0.533314          0.536342      -0.271596    5.342391   \n",
       "4         -0.585262          1.132732      -0.269140    0.349547   \n",
       "\n",
       "   Tests/1M pop  ...  Western Sahara     Yemen    Zambia  Zimbabwe      Asia  \\\n",
       "0      0.758136  ...       -0.069505 -0.069505 -0.069505 -0.069505 -0.547723   \n",
       "1     -0.116176  ...       -0.069505 -0.069505 -0.069505 -0.069505 -0.547723   \n",
       "2     -0.429365  ...       -0.069505 -0.069505 -0.069505 -0.069505  1.825742   \n",
       "3      0.846435  ...       -0.069505 -0.069505 -0.069505 -0.069505 -0.547723   \n",
       "4     -0.177664  ...       -0.069505 -0.069505 -0.069505 -0.069505 -0.547723   \n",
       "\n",
       "   Australia/Oceania    Europe  North America  South America  cluster  \n",
       "0          -0.172345 -0.547723       2.223254      -0.268635        1  \n",
       "1          -0.172345 -0.547723      -0.449791       3.722518        1  \n",
       "2          -0.172345 -0.547723      -0.449791      -0.268635        1  \n",
       "3          -0.172345  1.825742      -0.449791      -0.268635        1  \n",
       "4          -0.172345 -0.547723      -0.449791      -0.268635        0  \n",
       "\n",
       "[5 rows x 223 columns]"
      ]
     },
     "execution_count": 1259,
     "metadata": {},
     "output_type": "execute_result"
    }
   ],
   "source": [
    "data_scaled.head()"
   ]
  },
  {
   "cell_type": "code",
   "execution_count": 1260,
   "metadata": {},
   "outputs": [
    {
     "data": {
      "text/plain": [
       "0    204\n",
       "1      4\n",
       "Name: cluster, dtype: int64"
      ]
     },
     "execution_count": 1260,
     "metadata": {},
     "output_type": "execute_result"
    }
   ],
   "source": [
    "data_scaled['cluster'].value_counts()"
   ]
  },
  {
   "cell_type": "code",
   "execution_count": 1261,
   "metadata": {},
   "outputs": [],
   "source": [
    "a=data_scaled.TotalCases\n",
    "b=data_scaled.Population\n",
    "c=data_scaled.cluster"
   ]
  },
  {
   "cell_type": "code",
   "execution_count": 1262,
   "metadata": {},
   "outputs": [
    {
     "data": {
      "text/plain": [
       "<matplotlib.axes._subplots.AxesSubplot at 0x29bcb138f70>"
      ]
     },
     "execution_count": 1262,
     "metadata": {},
     "output_type": "execute_result"
    },
    {
     "data": {
      "image/png": "[encoded data removed]",
      "text/plain": [
       "<Figure size 432x288 with 1 Axes>"
      ]
     },
     "metadata": {
      "needs_background": "light"
     },
     "output_type": "display_data"
    }
   ],
   "source": [
    "sns.scatterplot(a,c, marker='o')"
   ]
  },
  {
   "cell_type": "code",
   "execution_count": 1263,
   "metadata": {},
   "outputs": [
    {
     "data": {
      "text/plain": [
       "<matplotlib.axes._subplots.AxesSubplot at 0x29bc3e93bb0>"
      ]
     },
     "execution_count": 1263,
     "metadata": {},
     "output_type": "execute_result"
    },
    {
     "data": {
      "image/png": "[encoded data removed]",
      "text/plain": [
       "<Figure size 432x288 with 1 Axes>"
      ]
     },
     "metadata": {
      "needs_background": "light"
     },
     "output_type": "display_data"
    }
   ],
   "source": [
    "sns.scatterplot(b,c,marker='o')"
   ]
  },
  {
   "cell_type": "code",
   "execution_count": 1264,
   "metadata": {},
   "outputs": [
    {
     "data": {
      "text/plain": [
       "<seaborn.axisgrid.PairGrid at 0x29bc5646fd0>"
      ]
     },
     "execution_count": 1264,
     "metadata": {},
     "output_type": "execute_result"
    },
    {
     "data": {
      "image/png": "[encoded data removed]",
      "text/plain": [
       "<Figure size 540x540 with 12 Axes>"
      ]
     },
     "metadata": {
      "needs_background": "light"
     },
     "output_type": "display_data"
    }
   ],
   "source": [
    "sns.pairplot(data, vars = ['TotalTests','ActiveCases','TotalDeaths'])"
   ]
  },
  {
   "cell_type": "markdown",
   "metadata": {},
   "source": [
    "Separating the data into 2 clusters per the Silhouette Score preference does not tell us much about our data. Only four countries fall into the second cluster. We believe we can get a more accurate visualization of the data with a higher number of clusters. Therefore, we will rerun the analysis with a cluster number of 3 per the Elbow method to test if data clusters of 3 is more helpful in understanding the data groups. "
   ]
  },
  {
   "cell_type": "code",
   "execution_count": 1265,
   "metadata": {},
   "outputs": [],
   "source": [
    "kmeans = KMeans(n_clusters = 3, init = 'k-means++', random_state = 42)\n",
    "kmeans.fit(X)\n",
    "pred = kmeans.predict(X)"
   ]
  },
  {
   "cell_type": "code",
   "execution_count": 1266,
   "metadata": {},
   "outputs": [
    {
     "data": {
      "text/plain": [
       "array([2, 2, 2, 1, 1, 0, 1, 1, 1, 1, 1, 1, 1, 1, 1, 1, 1, 1, 1, 1, 1, 1,\n",
       "       1, 0, 1, 1, 1, 1, 1, 1, 1, 1, 1, 0, 0, 1, 1, 1, 1, 1, 1, 1, 0, 1,\n",
       "       1, 1, 0, 1, 1, 1, 1, 1, 1, 1, 1, 1, 1, 1, 1, 1, 1, 1, 1, 1, 1, 0,\n",
       "       1, 1, 0, 1, 1, 1, 1, 1, 1, 1, 1, 1, 1, 1, 1, 1, 1, 1, 1, 1, 1, 1,\n",
       "       0, 1, 1, 1, 1, 1, 1, 1, 1, 1, 1, 1, 1, 1, 1, 1, 1, 1, 0, 1, 1, 1,\n",
       "       1, 1, 1, 1, 1, 0, 1, 1, 1, 1, 1, 1, 1, 1, 1, 1, 1, 1, 1, 1, 1, 1,\n",
       "       1, 1, 1, 1, 1, 1, 1, 1, 1, 1, 1, 1, 1, 1, 0, 1, 1, 1, 1, 1, 1, 0,\n",
       "       1, 1, 1, 1, 1, 1, 1, 1, 1, 1, 1, 1, 1, 1, 1, 0, 0, 1, 0, 1, 0, 0,\n",
       "       1, 1, 0, 0, 1, 0, 0, 1, 1, 1, 0, 1, 0, 1, 0, 0, 1, 0, 1, 0, 1, 0,\n",
       "       1, 1, 0, 0, 0, 0, 0, 0, 1, 1])"
      ]
     },
     "execution_count": 1266,
     "metadata": {},
     "output_type": "execute_result"
    }
   ],
   "source": [
    "pred"
   ]
  },
  {
   "cell_type": "code",
   "execution_count": 1267,
   "metadata": {},
   "outputs": [],
   "source": [
    "data_scaled['cluster'] = pred"
   ]
  },
  {
   "cell_type": "code",
   "execution_count": 1268,
   "metadata": {},
   "outputs": [
    {
     "data": {
      "text/html": [
       "<div>\n",
       "<style scoped>\n",
       "    .dataframe tbody tr th:only-of-type {\n",
       "        vertical-align: middle;\n",
       "    }\n",
       "\n",
       "    .dataframe tbody tr th {\n",
       "        vertical-align: top;\n",
       "    }\n",
       "\n",
       "    .dataframe thead th {\n",
       "        text-align: right;\n",
       "    }\n",
       "</style>\n",
       "<table border=\"1\" class=\"dataframe\">\n",
       "  <thead>\n",
       "    <tr style=\"text-align: right;\">\n",
       "      <th></th>\n",
       "      <th>Population</th>\n",
       "      <th>TotalCases</th>\n",
       "      <th>TotalDeaths</th>\n",
       "      <th>TotalRecovered</th>\n",
       "      <th>ActiveCases</th>\n",
       "      <th>Serious,Critical</th>\n",
       "      <th>Tot Cases/1M pop</th>\n",
       "      <th>Deaths/1M pop</th>\n",
       "      <th>TotalTests</th>\n",
       "      <th>Tests/1M pop</th>\n",
       "      <th>...</th>\n",
       "      <th>Western Sahara</th>\n",
       "      <th>Yemen</th>\n",
       "      <th>Zambia</th>\n",
       "      <th>Zimbabwe</th>\n",
       "      <th>Asia</th>\n",
       "      <th>Australia/Oceania</th>\n",
       "      <th>Europe</th>\n",
       "      <th>North America</th>\n",
       "      <th>South America</th>\n",
       "      <th>cluster</th>\n",
       "    </tr>\n",
       "  </thead>\n",
       "  <tbody>\n",
       "    <tr>\n",
       "      <th>0</th>\n",
       "      <td>2.877918</td>\n",
       "      <td>11.420951</td>\n",
       "      <td>10.791061</td>\n",
       "      <td>9.905157</td>\n",
       "      <td>13.095685</td>\n",
       "      <td>-0.061447</td>\n",
       "      <td>2.316439</td>\n",
       "      <td>-0.256065</td>\n",
       "      <td>11.623630</td>\n",
       "      <td>0.758136</td>\n",
       "      <td>...</td>\n",
       "      <td>-0.069505</td>\n",
       "      <td>-0.069505</td>\n",
       "      <td>-0.069505</td>\n",
       "      <td>-0.069505</td>\n",
       "      <td>-0.547723</td>\n",
       "      <td>-0.172345</td>\n",
       "      <td>-0.547723</td>\n",
       "      <td>2.223254</td>\n",
       "      <td>-0.268635</td>\n",
       "      <td>2</td>\n",
       "    </tr>\n",
       "    <tr>\n",
       "      <th>1</th>\n",
       "      <td>1.744219</td>\n",
       "      <td>6.532120</td>\n",
       "      <td>6.433977</td>\n",
       "      <td>7.824134</td>\n",
       "      <td>4.298055</td>\n",
       "      <td>-0.355789</td>\n",
       "      <td>2.031083</td>\n",
       "      <td>-0.257175</td>\n",
       "      <td>2.239476</td>\n",
       "      <td>-0.116176</td>\n",
       "      <td>...</td>\n",
       "      <td>-0.069505</td>\n",
       "      <td>-0.069505</td>\n",
       "      <td>-0.069505</td>\n",
       "      <td>-0.069505</td>\n",
       "      <td>-0.547723</td>\n",
       "      <td>-0.172345</td>\n",
       "      <td>-0.547723</td>\n",
       "      <td>-0.449791</td>\n",
       "      <td>3.722518</td>\n",
       "      <td>2</td>\n",
       "    </tr>\n",
       "    <tr>\n",
       "      <th>2</th>\n",
       "      <td>12.925829</td>\n",
       "      <td>4.469531</td>\n",
       "      <td>2.562718</td>\n",
       "      <td>5.187387</td>\n",
       "      <td>3.344704</td>\n",
       "      <td>-0.337322</td>\n",
       "      <td>-0.334014</td>\n",
       "      <td>-0.274370</td>\n",
       "      <td>3.920195</td>\n",
       "      <td>-0.429365</td>\n",
       "      <td>...</td>\n",
       "      <td>-0.069505</td>\n",
       "      <td>-0.069505</td>\n",
       "      <td>-0.069505</td>\n",
       "      <td>-0.069505</td>\n",
       "      <td>1.825742</td>\n",
       "      <td>-0.172345</td>\n",
       "      <td>-0.547723</td>\n",
       "      <td>-0.449791</td>\n",
       "      <td>-0.268635</td>\n",
       "      <td>2</td>\n",
       "    </tr>\n",
       "    <tr>\n",
       "      <th>3</th>\n",
       "      <td>1.105359</td>\n",
       "      <td>1.802694</td>\n",
       "      <td>0.726984</td>\n",
       "      <td>2.429672</td>\n",
       "      <td>0.884547</td>\n",
       "      <td>-0.533314</td>\n",
       "      <td>0.536342</td>\n",
       "      <td>-0.271596</td>\n",
       "      <td>5.342391</td>\n",
       "      <td>0.846435</td>\n",
       "      <td>...</td>\n",
       "      <td>-0.069505</td>\n",
       "      <td>-0.069505</td>\n",
       "      <td>-0.069505</td>\n",
       "      <td>-0.069505</td>\n",
       "      <td>-0.547723</td>\n",
       "      <td>-0.172345</td>\n",
       "      <td>1.825742</td>\n",
       "      <td>-0.449791</td>\n",
       "      <td>-0.268635</td>\n",
       "      <td>1</td>\n",
       "    </tr>\n",
       "    <tr>\n",
       "      <th>4</th>\n",
       "      <td>0.277150</td>\n",
       "      <td>1.031182</td>\n",
       "      <td>0.387300</td>\n",
       "      <td>1.292637</td>\n",
       "      <td>0.655176</td>\n",
       "      <td>-0.585262</td>\n",
       "      <td>1.132732</td>\n",
       "      <td>-0.269140</td>\n",
       "      <td>0.349547</td>\n",
       "      <td>-0.177664</td>\n",
       "      <td>...</td>\n",
       "      <td>-0.069505</td>\n",
       "      <td>-0.069505</td>\n",
       "      <td>-0.069505</td>\n",
       "      <td>-0.069505</td>\n",
       "      <td>-0.547723</td>\n",
       "      <td>-0.172345</td>\n",
       "      <td>-0.547723</td>\n",
       "      <td>-0.449791</td>\n",
       "      <td>-0.268635</td>\n",
       "      <td>1</td>\n",
       "    </tr>\n",
       "    <tr>\n",
       "      <th>5</th>\n",
       "      <td>0.943900</td>\n",
       "      <td>0.856646</td>\n",
       "      <td>3.165688</td>\n",
       "      <td>0.983957</td>\n",
       "      <td>0.435797</td>\n",
       "      <td>-0.483549</td>\n",
       "      <td>0.075099</td>\n",
       "      <td>-0.260067</td>\n",
       "      <td>-0.043777</td>\n",
       "      <td>-0.482726</td>\n",
       "      <td>...</td>\n",
       "      <td>-0.069505</td>\n",
       "      <td>-0.069505</td>\n",
       "      <td>-0.069505</td>\n",
       "      <td>-0.069505</td>\n",
       "      <td>-0.547723</td>\n",
       "      <td>-0.172345</td>\n",
       "      <td>-0.547723</td>\n",
       "      <td>2.223254</td>\n",
       "      <td>-0.268635</td>\n",
       "      <td>0</td>\n",
       "    </tr>\n",
       "    <tr>\n",
       "      <th>6</th>\n",
       "      <td>0.024885</td>\n",
       "      <td>0.839813</td>\n",
       "      <td>1.122083</td>\n",
       "      <td>0.989815</td>\n",
       "      <td>0.559096</td>\n",
       "      <td>-0.559096</td>\n",
       "      <td>2.045949</td>\n",
       "      <td>-0.251034</td>\n",
       "      <td>0.226192</td>\n",
       "      <td>-0.024797</td>\n",
       "      <td>...</td>\n",
       "      <td>-0.069505</td>\n",
       "      <td>-0.069505</td>\n",
       "      <td>-0.069505</td>\n",
       "      <td>-0.069505</td>\n",
       "      <td>-0.547723</td>\n",
       "      <td>-0.172345</td>\n",
       "      <td>-0.547723</td>\n",
       "      <td>-0.449791</td>\n",
       "      <td>3.722518</td>\n",
       "      <td>1</td>\n",
       "    </tr>\n",
       "    <tr>\n",
       "      <th>7</th>\n",
       "      <td>-0.107957</td>\n",
       "      <td>0.634657</td>\n",
       "      <td>0.406654</td>\n",
       "      <td>1.107165</td>\n",
       "      <td>-0.065600</td>\n",
       "      <td>-0.561102</td>\n",
       "      <td>3.083117</td>\n",
       "      <td>-0.255075</td>\n",
       "      <td>0.088472</td>\n",
       "      <td>0.087428</td>\n",
       "      <td>...</td>\n",
       "      <td>-0.069505</td>\n",
       "      <td>-0.069505</td>\n",
       "      <td>-0.069505</td>\n",
       "      <td>-0.069505</td>\n",
       "      <td>-0.547723</td>\n",
       "      <td>-0.172345</td>\n",
       "      <td>-0.547723</td>\n",
       "      <td>-0.449791</td>\n",
       "      <td>3.722518</td>\n",
       "      <td>1</td>\n",
       "    </tr>\n",
       "    <tr>\n",
       "      <th>8</th>\n",
       "      <td>0.196345</td>\n",
       "      <td>0.613940</td>\n",
       "      <td>0.545869</td>\n",
       "      <td>0.525695</td>\n",
       "      <td>0.725444</td>\n",
       "      <td>-0.557120</td>\n",
       "      <td>0.738871</td>\n",
       "      <td>-0.266287</td>\n",
       "      <td>0.096218</td>\n",
       "      <td>-0.297839</td>\n",
       "      <td>...</td>\n",
       "      <td>-0.069505</td>\n",
       "      <td>-0.069505</td>\n",
       "      <td>-0.069505</td>\n",
       "      <td>-0.069505</td>\n",
       "      <td>-0.547723</td>\n",
       "      <td>-0.172345</td>\n",
       "      <td>-0.547723</td>\n",
       "      <td>-0.449791</td>\n",
       "      <td>3.722518</td>\n",
       "      <td>1</td>\n",
       "    </tr>\n",
       "    <tr>\n",
       "      <th>9</th>\n",
       "      <td>0.156354</td>\n",
       "      <td>0.606588</td>\n",
       "      <td>1.670521</td>\n",
       "      <td>-0.089083</td>\n",
       "      <td>0.046931</td>\n",
       "      <td>-0.582961</td>\n",
       "      <td>0.846797</td>\n",
       "      <td>-0.251390</td>\n",
       "      <td>1.085216</td>\n",
       "      <td>0.489133</td>\n",
       "      <td>...</td>\n",
       "      <td>-0.069505</td>\n",
       "      <td>-0.069505</td>\n",
       "      <td>-0.069505</td>\n",
       "      <td>-0.069505</td>\n",
       "      <td>-0.547723</td>\n",
       "      <td>-0.172345</td>\n",
       "      <td>1.825742</td>\n",
       "      <td>-0.449791</td>\n",
       "      <td>-0.268635</td>\n",
       "      <td>1</td>\n",
       "    </tr>\n",
       "  </tbody>\n",
       "</table>\n",
       "<p>10 rows × 223 columns</p>\n",
       "</div>"
      ],
      "text/plain": [
       "   Population  TotalCases  TotalDeaths  TotalRecovered  ActiveCases  \\\n",
       "0    2.877918   11.420951    10.791061        9.905157    13.095685   \n",
       "1    1.744219    6.532120     6.433977        7.824134     4.298055   \n",
       "2   12.925829    4.469531     2.562718        5.187387     3.344704   \n",
       "3    1.105359    1.802694     0.726984        2.429672     0.884547   \n",
       "4    0.277150    1.031182     0.387300        1.292637     0.655176   \n",
       "5    0.943900    0.856646     3.165688        0.983957     0.435797   \n",
       "6    0.024885    0.839813     1.122083        0.989815     0.559096   \n",
       "7   -0.107957    0.634657     0.406654        1.107165    -0.065600   \n",
       "8    0.196345    0.613940     0.545869        0.525695     0.725444   \n",
       "9    0.156354    0.606588     1.670521       -0.089083     0.046931   \n",
       "\n",
       "   Serious,Critical  Tot Cases/1M pop  Deaths/1M pop  TotalTests  \\\n",
       "0         -0.061447          2.316439      -0.256065   11.623630   \n",
       "1         -0.355789          2.031083      -0.257175    2.239476   \n",
       "2         -0.337322         -0.334014      -0.274370    3.920195   \n",
       "3         -0.533314          0.536342      -0.271596    5.342391   \n",
       "4         -0.585262          1.132732      -0.269140    0.349547   \n",
       "5         -0.483549          0.075099      -0.260067   -0.043777   \n",
       "6         -0.559096          2.045949      -0.251034    0.226192   \n",
       "7         -0.561102          3.083117      -0.255075    0.088472   \n",
       "8         -0.557120          0.738871      -0.266287    0.096218   \n",
       "9         -0.582961          0.846797      -0.251390    1.085216   \n",
       "\n",
       "   Tests/1M pop  ...  Western Sahara     Yemen    Zambia  Zimbabwe      Asia  \\\n",
       "0      0.758136  ...       -0.069505 -0.069505 -0.069505 -0.069505 -0.547723   \n",
       "1     -0.116176  ...       -0.069505 -0.069505 -0.069505 -0.069505 -0.547723   \n",
       "2     -0.429365  ...       -0.069505 -0.069505 -0.069505 -0.069505  1.825742   \n",
       "3      0.846435  ...       -0.069505 -0.069505 -0.069505 -0.069505 -0.547723   \n",
       "4     -0.177664  ...       -0.069505 -0.069505 -0.069505 -0.069505 -0.547723   \n",
       "5     -0.482726  ...       -0.069505 -0.069505 -0.069505 -0.069505 -0.547723   \n",
       "6     -0.024797  ...       -0.069505 -0.069505 -0.069505 -0.069505 -0.547723   \n",
       "7      0.087428  ...       -0.069505 -0.069505 -0.069505 -0.069505 -0.547723   \n",
       "8     -0.297839  ...       -0.069505 -0.069505 -0.069505 -0.069505 -0.547723   \n",
       "9      0.489133  ...       -0.069505 -0.069505 -0.069505 -0.069505 -0.547723   \n",
       "\n",
       "   Australia/Oceania    Europe  North America  South America  cluster  \n",
       "0          -0.172345 -0.547723       2.223254      -0.268635        2  \n",
       "1          -0.172345 -0.547723      -0.449791       3.722518        2  \n",
       "2          -0.172345 -0.547723      -0.449791      -0.268635        2  \n",
       "3          -0.172345  1.825742      -0.449791      -0.268635        1  \n",
       "4          -0.172345 -0.547723      -0.449791      -0.268635        1  \n",
       "5          -0.172345 -0.547723       2.223254      -0.268635        0  \n",
       "6          -0.172345 -0.547723      -0.449791       3.722518        1  \n",
       "7          -0.172345 -0.547723      -0.449791       3.722518        1  \n",
       "8          -0.172345 -0.547723      -0.449791       3.722518        1  \n",
       "9          -0.172345  1.825742      -0.449791      -0.268635        1  \n",
       "\n",
       "[10 rows x 223 columns]"
      ]
     },
     "execution_count": 1268,
     "metadata": {},
     "output_type": "execute_result"
    }
   ],
   "source": [
    "data_scaled.head(10)"
   ]
  },
  {
   "cell_type": "code",
   "execution_count": 1269,
   "metadata": {},
   "outputs": [
    {
     "data": {
      "text/plain": [
       "1    170\n",
       "0     35\n",
       "2      3\n",
       "Name: cluster, dtype: int64"
      ]
     },
     "execution_count": 1269,
     "metadata": {},
     "output_type": "execute_result"
    }
   ],
   "source": [
    "data_scaled['cluster'].value_counts()"
   ]
  },
  {
   "cell_type": "code",
   "execution_count": 1270,
   "metadata": {},
   "outputs": [
    {
     "data": {
      "text/plain": [
       "<matplotlib.axes._subplots.AxesSubplot at 0x29bcd6747f0>"
      ]
     },
     "execution_count": 1270,
     "metadata": {},
     "output_type": "execute_result"
    },
    {
     "data": {
      "image/png": "[encoded data removed]",
      "text/plain": [
       "<Figure size 432x288 with 1 Axes>"
      ]
     },
     "metadata": {
      "needs_background": "light"
     },
     "output_type": "display_data"
    }
   ],
   "source": [
    "sns.scatterplot(a,c, marker='o')"
   ]
  },
  {
   "cell_type": "code",
   "execution_count": 1271,
   "metadata": {},
   "outputs": [
    {
     "data": {
      "text/plain": [
       "<matplotlib.axes._subplots.AxesSubplot at 0x29bcd8272e0>"
      ]
     },
     "execution_count": 1271,
     "metadata": {},
     "output_type": "execute_result"
    },
    {
     "data": {
      "image/png": "[encoded data removed]",
      "text/plain": [
       "<Figure size 432x288 with 1 Axes>"
      ]
     },
     "metadata": {
      "needs_background": "light"
     },
     "output_type": "display_data"
    }
   ],
   "source": [
    "sns.scatterplot(b,c,marker='o')"
   ]
  },
  {
   "cell_type": "markdown",
   "metadata": {},
   "source": [
    "### Analysis of Clustering"
   ]
  },
  {
   "cell_type": "markdown",
   "metadata": {},
   "source": [
    "Typically, the Silhouette Method and the Elbow Method agree with each other. In our analysis, however, our Elbow Method was slightly higher with a score of 3 as opposed to 2. For a conservative analysis, we ran our first tests with 2 clusters. The outputs of 2 clusters were very highly skewed, with only 1 of over 200 countries. Given this, we did not believe the silhouette cluster result of 2 was the most accurate. We then decided to run the analysis again with 3 clusters. The second analysis had a much better separation of data; the majority of data points were still in group 1 (170 of 208), but there is a more significant number of data points in group 2 (35 of 208) and 3 in group 3. By separating our data into 3 groups, we are able to get a better visual understanding of how our data points relate to each other and those that are most similar and tend to cluster together. We acknowledge that by running our analysis on 3 clusters per the Elbow method, we are not adhering to the cluster suggestion from the Silhouette Score yet we are continuing to move forward with the three clusters because we are able to pull more useful data and understanding\n",
    "\n",
    "What our data indicates is that of 208 countries, the majority (170) behave similarly to each other as they fall into the same group, cluster 1. 16.8% of our data falls in cluster 0 and only 1.4% fall in to our cluster 2. There is a steep drop off of from cluster 1 to cluster 0 and 2 showing most of our data falls somewhere in the middle, with slight potential outliers on both the high and low end.\n",
    "\n"
   ]
  },
  {
   "cell_type": "markdown",
   "metadata": {},
   "source": [
    "### Split Data into Training and Testing"
   ]
  },
  {
   "cell_type": "code",
   "execution_count": 1272,
   "metadata": {},
   "outputs": [],
   "source": [
    "x = data.drop(['TotalCases'], axis = 1)"
   ]
  },
  {
   "cell_type": "code",
   "execution_count": 1273,
   "metadata": {},
   "outputs": [
    {
     "data": {
      "text/plain": [
       "Index(['Population', 'TotalDeaths', 'TotalRecovered', 'ActiveCases',\n",
       "       'Serious,Critical', 'Tot Cases/1M pop', 'Deaths/1M pop', 'TotalTests',\n",
       "       'Tests/1M pop', 'Albania',\n",
       "       ...\n",
       "       'Vietnam', 'Western Sahara', 'Yemen', 'Zambia', 'Zimbabwe', 'Asia',\n",
       "       'Australia/Oceania', 'Europe', 'North America', 'South America'],\n",
       "      dtype='object', length=221)"
      ]
     },
     "execution_count": 1273,
     "metadata": {},
     "output_type": "execute_result"
    }
   ],
   "source": [
    "x.columns"
   ]
  },
  {
   "cell_type": "code",
   "execution_count": 1274,
   "metadata": {},
   "outputs": [],
   "source": [
    "y = data['TotalCases']"
   ]
  },
  {
   "cell_type": "markdown",
   "metadata": {},
   "source": [
    "Scale features"
   ]
  },
  {
   "cell_type": "code",
   "execution_count": 1275,
   "metadata": {},
   "outputs": [],
   "source": [
    "from sklearn.model_selection import train_test_split\n",
    "x_train, x_test, y_train, y_test = train_test_split(x, y, test_size=0.20, random_state=101)"
   ]
  },
  {
   "cell_type": "code",
   "execution_count": 1276,
   "metadata": {},
   "outputs": [],
   "source": [
    "from sklearn.preprocessing import StandardScaler\n",
    "scaler = StandardScaler()\n",
    "x_train = scaler.fit_transform(x_train)\n",
    "x_test = scaler.transform(x_test)"
   ]
  },
  {
   "cell_type": "markdown",
   "metadata": {},
   "source": [
    "### Random Forrest Regression Model"
   ]
  },
  {
   "cell_type": "code",
   "execution_count": 1277,
   "metadata": {},
   "outputs": [],
   "source": [
    "from sklearn.ensemble import RandomForestRegressor"
   ]
  },
  {
   "cell_type": "code",
   "execution_count": 1278,
   "metadata": {},
   "outputs": [
    {
     "name": "stdout",
     "output_type": "stream",
     "text": [
      "Fitting 5 folds for each of 7 candidates, totalling 35 fits\n",
      "[CV] n_estimators=10 .................................................\n",
      "[CV] ..................... n_estimators=10, score=0.301, total=   0.0s\n",
      "[CV] n_estimators=10 .................................................\n",
      "[CV] ..................... n_estimators=10, score=0.786, total=   0.0s\n",
      "[CV] n_estimators=10 .................................................\n",
      "[CV] ..................... n_estimators=10, score=0.893, total=   0.0s\n",
      "[CV] n_estimators=10 .................................................\n",
      "[CV] ..................... n_estimators=10, score=0.615, total=   0.0s\n",
      "[CV] n_estimators=10 .................................................\n",
      "[CV] ..................... n_estimators=10, score=0.958, total=   0.0s\n",
      "[CV] n_estimators=50 .................................................\n"
     ]
    },
    {
     "name": "stderr",
     "output_type": "stream",
     "text": [
      "[Parallel(n_jobs=1)]: Using backend SequentialBackend with 1 concurrent workers.\n",
      "[Parallel(n_jobs=1)]: Done   1 out of   1 | elapsed:    0.0s remaining:    0.0s\n",
      "[Parallel(n_jobs=1)]: Done   2 out of   2 | elapsed:    0.0s remaining:    0.0s\n"
     ]
    },
    {
     "name": "stdout",
     "output_type": "stream",
     "text": [
      "[CV] ..................... n_estimators=50, score=0.606, total=   0.1s\n",
      "[CV] n_estimators=50 .................................................\n",
      "[CV] .................... n_estimators=50, score=-3.483, total=   0.1s\n",
      "[CV] n_estimators=50 .................................................\n",
      "[CV] ..................... n_estimators=50, score=0.851, total=   0.1s\n",
      "[CV] n_estimators=50 .................................................\n",
      "[CV] ..................... n_estimators=50, score=0.474, total=   0.1s\n",
      "[CV] n_estimators=50 .................................................\n",
      "[CV] ..................... n_estimators=50, score=0.879, total=   0.2s\n",
      "[CV] n_estimators=100 ................................................\n",
      "[CV] .................... n_estimators=100, score=0.554, total=   0.4s\n",
      "[CV] n_estimators=100 ................................................\n",
      "[CV] ................... n_estimators=100, score=-1.000, total=   0.2s\n",
      "[CV] n_estimators=100 ................................................\n",
      "[CV] .................... n_estimators=100, score=0.836, total=   0.3s\n",
      "[CV] n_estimators=100 ................................................\n",
      "[CV] .................... n_estimators=100, score=0.558, total=   0.2s\n",
      "[CV] n_estimators=100 ................................................\n",
      "[CV] .................... n_estimators=100, score=0.939, total=   0.3s\n",
      "[CV] n_estimators=200 ................................................\n",
      "[CV] .................... n_estimators=200, score=0.593, total=   0.5s\n",
      "[CV] n_estimators=200 ................................................\n",
      "[CV] ................... n_estimators=200, score=-1.360, total=   0.5s\n",
      "[CV] n_estimators=200 ................................................\n",
      "[CV] .................... n_estimators=200, score=0.839, total=   0.5s\n",
      "[CV] n_estimators=200 ................................................\n",
      "[CV] .................... n_estimators=200, score=0.558, total=   0.5s\n",
      "[CV] n_estimators=200 ................................................\n",
      "[CV] .................... n_estimators=200, score=0.901, total=   0.5s\n",
      "[CV] n_estimators=300 ................................................\n",
      "[CV] .................... n_estimators=300, score=0.589, total=   0.8s\n",
      "[CV] n_estimators=300 ................................................\n",
      "[CV] ................... n_estimators=300, score=-0.699, total=   0.7s\n",
      "[CV] n_estimators=300 ................................................\n",
      "[CV] .................... n_estimators=300, score=0.873, total=   0.7s\n",
      "[CV] n_estimators=300 ................................................\n",
      "[CV] .................... n_estimators=300, score=0.574, total=   0.7s\n",
      "[CV] n_estimators=300 ................................................\n",
      "[CV] .................... n_estimators=300, score=0.875, total=   0.7s\n",
      "[CV] n_estimators=500 ................................................\n",
      "[CV] .................... n_estimators=500, score=0.569, total=   1.2s\n",
      "[CV] n_estimators=500 ................................................\n",
      "[CV] ................... n_estimators=500, score=-0.832, total=   1.2s\n",
      "[CV] n_estimators=500 ................................................\n",
      "[CV] .................... n_estimators=500, score=0.877, total=   1.2s\n",
      "[CV] n_estimators=500 ................................................\n",
      "[CV] .................... n_estimators=500, score=0.562, total=   1.2s\n",
      "[CV] n_estimators=500 ................................................\n",
      "[CV] .................... n_estimators=500, score=0.922, total=   1.2s\n",
      "[CV] n_estimators=800 ................................................\n",
      "[CV] .................... n_estimators=800, score=0.604, total=   1.8s\n",
      "[CV] n_estimators=800 ................................................\n",
      "[CV] ................... n_estimators=800, score=-1.054, total=   1.9s\n",
      "[CV] n_estimators=800 ................................................\n",
      "[CV] .................... n_estimators=800, score=0.870, total=   1.8s\n",
      "[CV] n_estimators=800 ................................................\n",
      "[CV] .................... n_estimators=800, score=0.565, total=   1.8s\n",
      "[CV] n_estimators=800 ................................................\n",
      "[CV] .................... n_estimators=800, score=0.940, total=   1.8s\n"
     ]
    },
    {
     "name": "stderr",
     "output_type": "stream",
     "text": [
      "[Parallel(n_jobs=1)]: Done  35 out of  35 | elapsed:   23.2s finished\n"
     ]
    },
    {
     "data": {
      "text/plain": [
       "GridSearchCV(estimator=RandomForestRegressor(),\n",
       "             param_grid={'n_estimators': [10, 50, 100, 200, 300, 500, 800]},\n",
       "             verbose=3)"
      ]
     },
     "execution_count": 1278,
     "metadata": {},
     "output_type": "execute_result"
    }
   ],
   "source": [
    "from sklearn.model_selection import GridSearchCV\n",
    "param_grid = {'n_estimators':[10, 50, 100, 200, 300, 500, 800]}\n",
    "grid = GridSearchCV(RandomForestRegressor(), param_grid, verbose=3)\n",
    "grid.fit(x_train, y_train)"
   ]
  },
  {
   "cell_type": "code",
   "execution_count": 1279,
   "metadata": {},
   "outputs": [
    {
     "data": {
      "text/plain": [
       "{'n_estimators': 10}"
      ]
     },
     "execution_count": 1279,
     "metadata": {},
     "output_type": "execute_result"
    }
   ],
   "source": [
    "grid.best_params_"
   ]
  },
  {
   "cell_type": "code",
   "execution_count": 1280,
   "metadata": {},
   "outputs": [
    {
     "data": {
      "text/plain": [
       "RandomForestRegressor(n_estimators=10, random_state=101)"
      ]
     },
     "execution_count": 1280,
     "metadata": {},
     "output_type": "execute_result"
    }
   ],
   "source": [
    "regressor = RandomForestRegressor(n_estimators = 10, random_state = 101)\n",
    "regressor.fit(x_train, y_train)"
   ]
  },
  {
   "cell_type": "code",
   "execution_count": 1281,
   "metadata": {},
   "outputs": [],
   "source": [
    "predictions1 = grid.best_estimator_.predict(x_test)"
   ]
  },
  {
   "cell_type": "code",
   "execution_count": 1282,
   "metadata": {},
   "outputs": [
    {
     "name": "stdout",
     "output_type": "stream",
     "text": [
      "Mean Absolute Error: 25331.838095238094\n",
      "Mean Squared Error: 9011247063.732378\n",
      "Root Mean Squared Error: 94927.58852795312\n"
     ]
    }
   ],
   "source": [
    "from sklearn import metrics\n",
    "\n",
    "print('Mean Absolute Error:', metrics.mean_absolute_error(y_test, predictions1))\n",
    "print('Mean Squared Error:', metrics.mean_squared_error(y_test, predictions1))\n",
    "print('Root Mean Squared Error:', np.sqrt(metrics.mean_squared_error(y_test, predictions1)))"
   ]
  },
  {
   "cell_type": "markdown",
   "metadata": {},
   "source": [
    "### KNN Regression Model"
   ]
  },
  {
   "cell_type": "code",
   "execution_count": 1283,
   "metadata": {},
   "outputs": [],
   "source": [
    "from sklearn.neighbors import KNeighborsRegressor"
   ]
  },
  {
   "cell_type": "code",
   "execution_count": 1284,
   "metadata": {},
   "outputs": [
    {
     "name": "stdout",
     "output_type": "stream",
     "text": [
      "Fitting 5 folds for each of 49 candidates, totalling 245 fits\n",
      "[CV] n_neighbors=1 ...................................................\n",
      "[CV] ...................... n_neighbors=1, score=-0.049, total=   0.0s\n",
      "[CV] n_neighbors=1 ...................................................\n",
      "[CV] ....................... n_neighbors=1, score=0.694, total=   0.0s\n",
      "[CV] n_neighbors=1 ...................................................\n",
      "[CV] ...................... n_neighbors=1, score=-0.024, total=   0.0s\n",
      "[CV] n_neighbors=1 ...................................................\n",
      "[CV] ....................... n_neighbors=1, score=0.801, total=   0.0s\n",
      "[CV] n_neighbors=1 ...................................................\n",
      "[CV] ...................... n_neighbors=1, score=-0.001, total=   0.0s\n",
      "[CV] n_neighbors=2 ...................................................\n",
      "[CV] ....................... n_neighbors=2, score=0.104, total=   0.0s\n",
      "[CV] n_neighbors=2 ...................................................\n",
      "[CV] ....................... n_neighbors=2, score=0.686, total=   0.0s\n",
      "[CV] n_neighbors=2 ...................................................\n",
      "[CV] ....................... n_neighbors=2, score=0.313, total=   0.0s\n",
      "[CV] n_neighbors=2 ...................................................\n",
      "[CV] ....................... n_neighbors=2, score=0.589, total=   0.0s\n",
      "[CV] n_neighbors=2 ...................................................\n",
      "[CV] ....................... n_neighbors=2, score=0.389, total=   0.0s\n",
      "[CV] n_neighbors=3 ...................................................\n",
      "[CV] ....................... n_neighbors=3, score=0.230, total=   0.0s\n",
      "[CV] n_neighbors=3 ...................................................\n",
      "[CV] ....................... n_neighbors=3, score=0.797, total=   0.0s\n",
      "[CV] n_neighbors=3 ...................................................\n",
      "[CV] ....................... n_neighbors=3, score=0.392, total=   0.0s\n",
      "[CV] n_neighbors=3 ...................................................\n",
      "[CV] ....................... n_neighbors=3, score=0.415, total=   0.0s\n",
      "[CV] n_neighbors=3 ...................................................\n",
      "[CV] ....................... n_neighbors=3, score=0.468, total=   0.0s\n",
      "[CV] n_neighbors=4 ...................................................\n",
      "[CV] ....................... n_neighbors=4, score=0.235, total=   0.0s\n",
      "[CV] n_neighbors=4 ...................................................\n",
      "[CV] ....................... n_neighbors=4, score=0.889, total=   0.0s\n",
      "[CV] n_neighbors=4 ...................................................\n",
      "[CV] ....................... n_neighbors=4, score=0.372, total=   0.0s\n",
      "[CV] n_neighbors=4 ...................................................\n",
      "[CV] ....................... n_neighbors=4, score=0.349, total=   0.0s\n",
      "[CV] n_neighbors=4 ...................................................\n",
      "[CV] ....................... n_neighbors=4, score=0.692, total=   0.0s\n",
      "[CV] n_neighbors=5 ...................................................\n",
      "[CV] ....................... n_neighbors=5, score=0.220, total=   0.0s\n",
      "[CV] n_neighbors=5 ...................................................\n",
      "[CV] ....................... n_neighbors=5, score=0.809, total=   0.0s\n",
      "[CV] n_neighbors=5 ...................................................\n",
      "[CV] ....................... n_neighbors=5, score=0.433, total=   0.0s\n",
      "[CV] n_neighbors=5 ...................................................\n"
     ]
    },
    {
     "name": "stderr",
     "output_type": "stream",
     "text": [
      "[Parallel(n_jobs=1)]: Using backend SequentialBackend with 1 concurrent workers.\n",
      "[Parallel(n_jobs=1)]: Done   1 out of   1 | elapsed:    0.0s remaining:    0.0s\n",
      "[Parallel(n_jobs=1)]: Done   2 out of   2 | elapsed:    0.0s remaining:    0.0s\n"
     ]
    },
    {
     "name": "stdout",
     "output_type": "stream",
     "text": [
      "[CV] ....................... n_neighbors=5, score=0.298, total=   0.0s\n",
      "[CV] n_neighbors=5 ...................................................\n",
      "[CV] ....................... n_neighbors=5, score=0.622, total=   0.0s\n",
      "[CV] n_neighbors=6 ...................................................\n",
      "[CV] ....................... n_neighbors=6, score=0.210, total=   0.0s\n",
      "[CV] n_neighbors=6 ...................................................\n",
      "[CV] ....................... n_neighbors=6, score=0.774, total=   0.0s\n",
      "[CV] n_neighbors=6 ...................................................\n",
      "[CV] ....................... n_neighbors=6, score=0.415, total=   0.0s\n",
      "[CV] n_neighbors=6 ...................................................\n",
      "[CV] ....................... n_neighbors=6, score=0.260, total=   0.0s\n",
      "[CV] n_neighbors=6 ...................................................\n",
      "[CV] ....................... n_neighbors=6, score=0.538, total=   0.0s\n",
      "[CV] n_neighbors=7 ...................................................\n",
      "[CV] ....................... n_neighbors=7, score=0.198, total=   0.0s\n",
      "[CV] n_neighbors=7 ...................................................\n",
      "[CV] ....................... n_neighbors=7, score=0.667, total=   0.0s\n",
      "[CV] n_neighbors=7 ...................................................\n",
      "[CV] ....................... n_neighbors=7, score=0.463, total=   0.0s\n",
      "[CV] n_neighbors=7 ...................................................\n",
      "[CV] ....................... n_neighbors=7, score=0.247, total=   0.0s\n",
      "[CV] n_neighbors=7 ...................................................\n",
      "[CV] ....................... n_neighbors=7, score=0.506, total=   0.0s\n",
      "[CV] n_neighbors=8 ...................................................\n",
      "[CV] ....................... n_neighbors=8, score=0.191, total=   0.0s\n",
      "[CV] n_neighbors=8 ...................................................\n",
      "[CV] ....................... n_neighbors=8, score=0.614, total=   0.0s\n",
      "[CV] n_neighbors=8 ...................................................\n",
      "[CV] ....................... n_neighbors=8, score=0.448, total=   0.0s\n",
      "[CV] n_neighbors=8 ...................................................\n",
      "[CV] ....................... n_neighbors=8, score=0.221, total=   0.0s\n",
      "[CV] n_neighbors=8 ...................................................\n",
      "[CV] ....................... n_neighbors=8, score=0.545, total=   0.0s\n",
      "[CV] n_neighbors=9 ...................................................\n",
      "[CV] ....................... n_neighbors=9, score=0.178, total=   0.0s\n",
      "[CV] n_neighbors=9 ...................................................\n",
      "[CV] ....................... n_neighbors=9, score=0.576, total=   0.0s\n",
      "[CV] n_neighbors=9 ...................................................\n",
      "[CV] ....................... n_neighbors=9, score=0.406, total=   0.0s\n",
      "[CV] n_neighbors=9 ...................................................\n",
      "[CV] ....................... n_neighbors=9, score=0.207, total=   0.0s\n",
      "[CV] n_neighbors=9 ...................................................\n",
      "[CV] ....................... n_neighbors=9, score=0.468, total=   0.0s\n",
      "[CV] n_neighbors=10 ..................................................\n",
      "[CV] ...................... n_neighbors=10, score=0.166, total=   0.0s\n",
      "[CV] n_neighbors=10 ..................................................\n",
      "[CV] ...................... n_neighbors=10, score=0.553, total=   0.0s\n",
      "[CV] n_neighbors=10 ..................................................\n",
      "[CV] ...................... n_neighbors=10, score=0.405, total=   0.0s\n",
      "[CV] n_neighbors=10 ..................................................\n",
      "[CV] ...................... n_neighbors=10, score=0.190, total=   0.0s\n",
      "[CV] n_neighbors=10 ..................................................\n",
      "[CV] ...................... n_neighbors=10, score=0.442, total=   0.0s\n",
      "[CV] n_neighbors=11 ..................................................\n",
      "[CV] ...................... n_neighbors=11, score=0.161, total=   0.0s\n",
      "[CV] n_neighbors=11 ..................................................\n",
      "[CV] ...................... n_neighbors=11, score=0.536, total=   0.0s\n",
      "[CV] n_neighbors=11 ..................................................\n",
      "[CV] ...................... n_neighbors=11, score=0.407, total=   0.0s\n",
      "[CV] n_neighbors=11 ..................................................\n",
      "[CV] ...................... n_neighbors=11, score=0.179, total=   0.0s\n",
      "[CV] n_neighbors=11 ..................................................\n",
      "[CV] ...................... n_neighbors=11, score=0.424, total=   0.0s\n",
      "[CV] n_neighbors=12 ..................................................\n",
      "[CV] ...................... n_neighbors=12, score=0.147, total=   0.0s\n",
      "[CV] n_neighbors=12 ..................................................\n",
      "[CV] ...................... n_neighbors=12, score=0.664, total=   0.0s\n",
      "[CV] n_neighbors=12 ..................................................\n",
      "[CV] ...................... n_neighbors=12, score=0.376, total=   0.0s\n",
      "[CV] n_neighbors=12 ..................................................\n",
      "[CV] ...................... n_neighbors=12, score=0.175, total=   0.0s\n",
      "[CV] n_neighbors=12 ..................................................\n",
      "[CV] ...................... n_neighbors=12, score=0.402, total=   0.0s\n",
      "[CV] n_neighbors=13 ..................................................\n",
      "[CV] ...................... n_neighbors=13, score=0.143, total=   0.0s\n",
      "[CV] n_neighbors=13 ..................................................\n",
      "[CV] ...................... n_neighbors=13, score=0.691, total=   0.0s\n",
      "[CV] n_neighbors=13 ..................................................\n",
      "[CV] ...................... n_neighbors=13, score=0.352, total=   0.0s\n",
      "[CV] n_neighbors=13 ..................................................\n",
      "[CV] ...................... n_neighbors=13, score=0.166, total=   0.0s\n",
      "[CV] n_neighbors=13 ..................................................\n",
      "[CV] ...................... n_neighbors=13, score=0.386, total=   0.0s\n",
      "[CV] n_neighbors=14 ..................................................\n",
      "[CV] ...................... n_neighbors=14, score=0.131, total=   0.0s\n",
      "[CV] n_neighbors=14 ..................................................\n",
      "[CV] ...................... n_neighbors=14, score=0.661, total=   0.0s\n",
      "[CV] n_neighbors=14 ..................................................\n",
      "[CV] ...................... n_neighbors=14, score=0.329, total=   0.0s\n",
      "[CV] n_neighbors=14 ..................................................\n",
      "[CV] ...................... n_neighbors=14, score=0.157, total=   0.0s\n",
      "[CV] n_neighbors=14 ..................................................\n",
      "[CV] ...................... n_neighbors=14, score=0.365, total=   0.0s\n",
      "[CV] n_neighbors=15 ..................................................\n",
      "[CV] ...................... n_neighbors=15, score=0.122, total=   0.0s\n",
      "[CV] n_neighbors=15 ..................................................\n",
      "[CV] ...................... n_neighbors=15, score=0.623, total=   0.0s\n",
      "[CV] n_neighbors=15 ..................................................\n",
      "[CV] ...................... n_neighbors=15, score=0.302, total=   0.0s\n",
      "[CV] n_neighbors=15 ..................................................\n",
      "[CV] ...................... n_neighbors=15, score=0.147, total=   0.0s\n",
      "[CV] n_neighbors=15 ..................................................\n",
      "[CV] ...................... n_neighbors=15, score=0.342, total=   0.0s\n",
      "[CV] n_neighbors=16 ..................................................\n",
      "[CV] ...................... n_neighbors=16, score=0.111, total=   0.0s\n",
      "[CV] n_neighbors=16 ..................................................\n",
      "[CV] ...................... n_neighbors=16, score=0.582, total=   0.0s\n",
      "[CV] n_neighbors=16 ..................................................\n",
      "[CV] ...................... n_neighbors=16, score=0.286, total=   0.0s\n",
      "[CV] n_neighbors=16 ..................................................\n",
      "[CV] ...................... n_neighbors=16, score=0.136, total=   0.0s\n",
      "[CV] n_neighbors=16 ..................................................\n",
      "[CV] ...................... n_neighbors=16, score=0.321, total=   0.0s\n",
      "[CV] n_neighbors=17 ..................................................\n",
      "[CV] ...................... n_neighbors=17, score=0.105, total=   0.0s\n",
      "[CV] n_neighbors=17 ..................................................\n",
      "[CV] ...................... n_neighbors=17, score=0.559, total=   0.0s\n",
      "[CV] n_neighbors=17 ..................................................\n",
      "[CV] ...................... n_neighbors=17, score=0.270, total=   0.0s\n",
      "[CV] n_neighbors=17 ..................................................\n",
      "[CV] ...................... n_neighbors=17, score=0.128, total=   0.0s\n",
      "[CV] n_neighbors=17 ..................................................\n",
      "[CV] ...................... n_neighbors=17, score=0.305, total=   0.0s\n",
      "[CV] n_neighbors=18 ..................................................\n",
      "[CV] ...................... n_neighbors=18, score=0.099, total=   0.0s\n",
      "[CV] n_neighbors=18 ..................................................\n",
      "[CV] ...................... n_neighbors=18, score=0.538, total=   0.0s\n",
      "[CV] n_neighbors=18 ..................................................\n",
      "[CV] ...................... n_neighbors=18, score=0.288, total=   0.0s\n",
      "[CV] n_neighbors=18 ..................................................\n",
      "[CV] ...................... n_neighbors=18, score=0.120, total=   0.0s\n",
      "[CV] n_neighbors=18 ..................................................\n",
      "[CV] ...................... n_neighbors=18, score=0.282, total=   0.0s\n",
      "[CV] n_neighbors=19 ..................................................\n"
     ]
    },
    {
     "name": "stdout",
     "output_type": "stream",
     "text": [
      "[CV] ...................... n_neighbors=19, score=0.090, total=   0.0s\n",
      "[CV] n_neighbors=19 ..................................................\n",
      "[CV] ...................... n_neighbors=19, score=0.521, total=   0.0s\n",
      "[CV] n_neighbors=19 ..................................................\n",
      "[CV] ...................... n_neighbors=19, score=0.273, total=   0.0s\n",
      "[CV] n_neighbors=19 ..................................................\n",
      "[CV] ...................... n_neighbors=19, score=0.113, total=   0.0s\n",
      "[CV] n_neighbors=19 ..................................................\n",
      "[CV] ...................... n_neighbors=19, score=0.346, total=   0.0s\n",
      "[CV] n_neighbors=20 ..................................................\n",
      "[CV] ...................... n_neighbors=20, score=0.086, total=   0.0s\n",
      "[CV] n_neighbors=20 ..................................................\n",
      "[CV] ...................... n_neighbors=20, score=0.495, total=   0.0s\n",
      "[CV] n_neighbors=20 ..................................................\n",
      "[CV] ...................... n_neighbors=20, score=0.265, total=   0.0s\n",
      "[CV] n_neighbors=20 ..................................................\n",
      "[CV] ...................... n_neighbors=20, score=0.105, total=   0.0s\n",
      "[CV] n_neighbors=20 ..................................................\n",
      "[CV] ...................... n_neighbors=20, score=0.356, total=   0.0s\n",
      "[CV] n_neighbors=21 ..................................................\n",
      "[CV] ...................... n_neighbors=21, score=0.080, total=   0.0s\n",
      "[CV] n_neighbors=21 ..................................................\n",
      "[CV] ...................... n_neighbors=21, score=0.471, total=   0.0s\n",
      "[CV] n_neighbors=21 ..................................................\n",
      "[CV] ...................... n_neighbors=21, score=0.250, total=   0.0s\n",
      "[CV] n_neighbors=21 ..................................................\n",
      "[CV] ...................... n_neighbors=21, score=0.099, total=   0.0s\n",
      "[CV] n_neighbors=21 ..................................................\n",
      "[CV] ...................... n_neighbors=21, score=0.343, total=   0.0s\n",
      "[CV] n_neighbors=22 ..................................................\n",
      "[CV] ...................... n_neighbors=22, score=0.073, total=   0.0s\n",
      "[CV] n_neighbors=22 ..................................................\n",
      "[CV] ...................... n_neighbors=22, score=0.521, total=   0.0s\n",
      "[CV] n_neighbors=22 ..................................................\n",
      "[CV] ...................... n_neighbors=22, score=0.236, total=   0.0s\n",
      "[CV] n_neighbors=22 ..................................................\n",
      "[CV] ...................... n_neighbors=22, score=0.093, total=   0.0s\n",
      "[CV] n_neighbors=22 ..................................................\n",
      "[CV] ...................... n_neighbors=22, score=0.352, total=   0.0s\n",
      "[CV] n_neighbors=23 ..................................................\n",
      "[CV] ...................... n_neighbors=23, score=0.068, total=   0.0s\n",
      "[CV] n_neighbors=23 ..................................................\n",
      "[CV] ...................... n_neighbors=23, score=0.504, total=   0.0s\n",
      "[CV] n_neighbors=23 ..................................................\n",
      "[CV] ...................... n_neighbors=23, score=0.222, total=   0.0s\n",
      "[CV] n_neighbors=23 ..................................................\n",
      "[CV] ...................... n_neighbors=23, score=0.088, total=   0.0s\n",
      "[CV] n_neighbors=23 ..................................................\n",
      "[CV] ...................... n_neighbors=23, score=0.351, total=   0.0s\n",
      "[CV] n_neighbors=24 ..................................................\n",
      "[CV] ...................... n_neighbors=24, score=0.063, total=   0.0s\n",
      "[CV] n_neighbors=24 ..................................................\n",
      "[CV] ...................... n_neighbors=24, score=0.488, total=   0.0s\n",
      "[CV] n_neighbors=24 ..................................................\n",
      "[CV] ...................... n_neighbors=24, score=0.210, total=   0.0s\n",
      "[CV] n_neighbors=24 ..................................................\n",
      "[CV] ...................... n_neighbors=24, score=0.084, total=   0.0s\n",
      "[CV] n_neighbors=24 ..................................................\n",
      "[CV] ...................... n_neighbors=24, score=0.340, total=   0.0s\n",
      "[CV] n_neighbors=25 ..................................................\n",
      "[CV] ...................... n_neighbors=25, score=0.059, total=   0.0s\n",
      "[CV] n_neighbors=25 ..................................................\n",
      "[CV] ...................... n_neighbors=25, score=0.472, total=   0.0s\n",
      "[CV] n_neighbors=25 ..................................................\n",
      "[CV] ...................... n_neighbors=25, score=0.201, total=   0.0s\n",
      "[CV] n_neighbors=25 ..................................................\n",
      "[CV] ...................... n_neighbors=25, score=0.079, total=   0.0s\n",
      "[CV] n_neighbors=25 ..................................................\n",
      "[CV] ...................... n_neighbors=25, score=0.328, total=   0.0s\n",
      "[CV] n_neighbors=26 ..................................................\n",
      "[CV] ...................... n_neighbors=26, score=0.056, total=   0.0s\n",
      "[CV] n_neighbors=26 ..................................................\n",
      "[CV] ...................... n_neighbors=26, score=0.501, total=   0.0s\n",
      "[CV] n_neighbors=26 ..................................................\n",
      "[CV] ...................... n_neighbors=26, score=0.191, total=   0.0s\n",
      "[CV] n_neighbors=26 ..................................................\n",
      "[CV] ...................... n_neighbors=26, score=0.074, total=   0.0s\n",
      "[CV] n_neighbors=26 ..................................................\n",
      "[CV] ...................... n_neighbors=26, score=0.319, total=   0.0s\n",
      "[CV] n_neighbors=27 ..................................................\n",
      "[CV] ...................... n_neighbors=27, score=0.052, total=   0.0s\n",
      "[CV] n_neighbors=27 ..................................................\n",
      "[CV] ...................... n_neighbors=27, score=0.487, total=   0.0s\n",
      "[CV] n_neighbors=27 ..................................................\n",
      "[CV] ...................... n_neighbors=27, score=0.181, total=   0.0s\n",
      "[CV] n_neighbors=27 ..................................................\n",
      "[CV] ...................... n_neighbors=27, score=0.070, total=   0.0s\n",
      "[CV] n_neighbors=27 ..................................................\n",
      "[CV] ...................... n_neighbors=27, score=0.326, total=   0.0s\n",
      "[CV] n_neighbors=28 ..................................................\n",
      "[CV] ...................... n_neighbors=28, score=0.048, total=   0.0s\n",
      "[CV] n_neighbors=28 ..................................................\n",
      "[CV] ...................... n_neighbors=28, score=0.479, total=   0.0s\n",
      "[CV] n_neighbors=28 ..................................................\n",
      "[CV] ...................... n_neighbors=28, score=0.168, total=   0.0s\n",
      "[CV] n_neighbors=28 ..................................................\n",
      "[CV] ...................... n_neighbors=28, score=0.066, total=   0.0s\n",
      "[CV] n_neighbors=28 ..................................................\n",
      "[CV] ...................... n_neighbors=28, score=0.313, total=   0.0s\n",
      "[CV] n_neighbors=29 ..................................................\n",
      "[CV] ...................... n_neighbors=29, score=0.045, total=   0.0s\n",
      "[CV] n_neighbors=29 ..................................................\n",
      "[CV] ...................... n_neighbors=29, score=0.470, total=   0.0s\n",
      "[CV] n_neighbors=29 ..................................................\n",
      "[CV] ...................... n_neighbors=29, score=0.168, total=   0.0s\n",
      "[CV] n_neighbors=29 ..................................................\n",
      "[CV] ...................... n_neighbors=29, score=0.062, total=   0.0s\n",
      "[CV] n_neighbors=29 ..................................................\n",
      "[CV] ...................... n_neighbors=29, score=0.309, total=   0.0s\n",
      "[CV] n_neighbors=30 ..................................................\n",
      "[CV] ...................... n_neighbors=30, score=0.042, total=   0.0s\n",
      "[CV] n_neighbors=30 ..................................................\n",
      "[CV] ...................... n_neighbors=30, score=0.456, total=   0.0s\n",
      "[CV] n_neighbors=30 ..................................................\n",
      "[CV] ...................... n_neighbors=30, score=0.160, total=   0.0s\n",
      "[CV] n_neighbors=30 ..................................................\n",
      "[CV] ...................... n_neighbors=30, score=0.059, total=   0.0s\n",
      "[CV] n_neighbors=30 ..................................................\n",
      "[CV] ...................... n_neighbors=30, score=0.312, total=   0.0s\n",
      "[CV] n_neighbors=31 ..................................................\n",
      "[CV] ...................... n_neighbors=31, score=0.039, total=   0.0s\n",
      "[CV] n_neighbors=31 ..................................................\n",
      "[CV] ...................... n_neighbors=31, score=0.447, total=   0.0s\n",
      "[CV] n_neighbors=31 ..................................................\n",
      "[CV] ...................... n_neighbors=31, score=0.153, total=   0.0s\n",
      "[CV] n_neighbors=31 ..................................................\n",
      "[CV] ...................... n_neighbors=31, score=0.056, total=   0.0s\n",
      "[CV] n_neighbors=31 ..................................................\n",
      "[CV] ...................... n_neighbors=31, score=0.312, total=   0.0s\n",
      "[CV] n_neighbors=32 ..................................................\n",
      "[CV] ...................... n_neighbors=32, score=0.035, total=   0.0s\n",
      "[CV] n_neighbors=32 ..................................................\n",
      "[CV] ...................... n_neighbors=32, score=0.433, total=   0.0s\n",
      "[CV] n_neighbors=32 ..................................................\n",
      "[CV] ...................... n_neighbors=32, score=0.168, total=   0.0s\n",
      "[CV] n_neighbors=32 ..................................................\n",
      "[CV] ...................... n_neighbors=32, score=0.053, total=   0.0s\n",
      "[CV] n_neighbors=32 ..................................................\n",
      "[CV] ...................... n_neighbors=32, score=0.303, total=   0.0s\n",
      "[CV] n_neighbors=33 ..................................................\n",
      "[CV] ...................... n_neighbors=33, score=0.032, total=   0.0s\n",
      "[CV] n_neighbors=33 ..................................................\n",
      "[CV] ...................... n_neighbors=33, score=0.418, total=   0.0s\n",
      "[CV] n_neighbors=33 ..................................................\n",
      "[CV] ...................... n_neighbors=33, score=0.160, total=   0.0s\n",
      "[CV] n_neighbors=33 ..................................................\n",
      "[CV] ...................... n_neighbors=33, score=0.051, total=   0.0s\n",
      "[CV] n_neighbors=33 ..................................................\n",
      "[CV] ...................... n_neighbors=33, score=0.293, total=   0.0s\n",
      "[CV] n_neighbors=34 ..................................................\n",
      "[CV] ...................... n_neighbors=34, score=0.029, total=   0.0s\n",
      "[CV] n_neighbors=34 ..................................................\n"
     ]
    },
    {
     "name": "stdout",
     "output_type": "stream",
     "text": [
      "[CV] ...................... n_neighbors=34, score=0.408, total=   0.0s\n",
      "[CV] n_neighbors=34 ..................................................\n",
      "[CV] ...................... n_neighbors=34, score=0.156, total=   0.0s\n",
      "[CV] n_neighbors=34 ..................................................\n",
      "[CV] ...................... n_neighbors=34, score=0.048, total=   0.0s\n",
      "[CV] n_neighbors=34 ..................................................\n",
      "[CV] ...................... n_neighbors=34, score=0.307, total=   0.0s\n",
      "[CV] n_neighbors=35 ..................................................\n",
      "[CV] ...................... n_neighbors=35, score=0.027, total=   0.0s\n",
      "[CV] n_neighbors=35 ..................................................\n",
      "[CV] ...................... n_neighbors=35, score=0.396, total=   0.0s\n",
      "[CV] n_neighbors=35 ..................................................\n",
      "[CV] ...................... n_neighbors=35, score=0.149, total=   0.0s\n",
      "[CV] n_neighbors=35 ..................................................\n",
      "[CV] ...................... n_neighbors=35, score=0.045, total=   0.0s\n",
      "[CV] n_neighbors=35 ..................................................\n",
      "[CV] ...................... n_neighbors=35, score=0.306, total=   0.0s\n",
      "[CV] n_neighbors=36 ..................................................\n",
      "[CV] ...................... n_neighbors=36, score=0.024, total=   0.0s\n",
      "[CV] n_neighbors=36 ..................................................\n",
      "[CV] ...................... n_neighbors=36, score=0.370, total=   0.0s\n",
      "[CV] n_neighbors=36 ..................................................\n",
      "[CV] ...................... n_neighbors=36, score=0.143, total=   0.0s\n",
      "[CV] n_neighbors=36 ..................................................\n",
      "[CV] ...................... n_neighbors=36, score=0.043, total=   0.0s\n",
      "[CV] n_neighbors=36 ..................................................\n",
      "[CV] ...................... n_neighbors=36, score=0.296, total=   0.0s\n",
      "[CV] n_neighbors=37 ..................................................\n",
      "[CV] ...................... n_neighbors=37, score=0.022, total=   0.0s\n",
      "[CV] n_neighbors=37 ..................................................\n",
      "[CV] ...................... n_neighbors=37, score=0.389, total=   0.0s\n",
      "[CV] n_neighbors=37 ..................................................\n",
      "[CV] ...................... n_neighbors=37, score=0.137, total=   0.0s\n",
      "[CV] n_neighbors=37 ..................................................\n",
      "[CV] ...................... n_neighbors=37, score=0.040, total=   0.0s\n",
      "[CV] n_neighbors=37 ..................................................\n",
      "[CV] ...................... n_neighbors=37, score=0.287, total=   0.0s\n",
      "[CV] n_neighbors=38 ..................................................\n",
      "[CV] ...................... n_neighbors=38, score=0.019, total=   0.0s\n",
      "[CV] n_neighbors=38 ..................................................\n",
      "[CV] ...................... n_neighbors=38, score=0.364, total=   0.0s\n",
      "[CV] n_neighbors=38 ..................................................\n",
      "[CV] ...................... n_neighbors=38, score=0.136, total=   0.0s\n",
      "[CV] n_neighbors=38 ..................................................\n",
      "[CV] ...................... n_neighbors=38, score=0.039, total=   0.0s\n",
      "[CV] n_neighbors=38 ..................................................\n",
      "[CV] ...................... n_neighbors=38, score=0.278, total=   0.0s\n",
      "[CV] n_neighbors=39 ..................................................\n",
      "[CV] ...................... n_neighbors=39, score=0.017, total=   0.0s\n",
      "[CV] n_neighbors=39 ..................................................\n",
      "[CV] ...................... n_neighbors=39, score=0.386, total=   0.0s\n",
      "[CV] n_neighbors=39 ..................................................\n",
      "[CV] ...................... n_neighbors=39, score=0.131, total=   0.0s\n",
      "[CV] n_neighbors=39 ..................................................\n",
      "[CV] ...................... n_neighbors=39, score=0.036, total=   0.0s\n",
      "[CV] n_neighbors=39 ..................................................\n",
      "[CV] ...................... n_neighbors=39, score=0.269, total=   0.0s\n",
      "[CV] n_neighbors=40 ..................................................\n",
      "[CV] ...................... n_neighbors=40, score=0.015, total=   0.0s\n",
      "[CV] n_neighbors=40 ..................................................\n",
      "[CV] ...................... n_neighbors=40, score=0.369, total=   0.0s\n",
      "[CV] n_neighbors=40 ..................................................\n",
      "[CV] ...................... n_neighbors=40, score=0.125, total=   0.0s\n",
      "[CV] n_neighbors=40 ..................................................\n",
      "[CV] ...................... n_neighbors=40, score=0.034, total=   0.0s\n",
      "[CV] n_neighbors=40 ..................................................\n",
      "[CV] ...................... n_neighbors=40, score=0.259, total=   0.0s\n",
      "[CV] n_neighbors=41 ..................................................\n",
      "[CV] ...................... n_neighbors=41, score=0.013, total=   0.0s\n",
      "[CV] n_neighbors=41 ..................................................\n",
      "[CV] ...................... n_neighbors=41, score=0.355, total=   0.0s\n",
      "[CV] n_neighbors=41 ..................................................\n",
      "[CV] ...................... n_neighbors=41, score=0.121, total=   0.0s\n",
      "[CV] n_neighbors=41 ..................................................\n",
      "[CV] ...................... n_neighbors=41, score=0.032, total=   0.0s\n",
      "[CV] n_neighbors=41 ..................................................\n",
      "[CV] ...................... n_neighbors=41, score=0.251, total=   0.0s\n",
      "[CV] n_neighbors=42 ..................................................\n",
      "[CV] ...................... n_neighbors=42, score=0.011, total=   0.0s\n",
      "[CV] n_neighbors=42 ..................................................\n",
      "[CV] ...................... n_neighbors=42, score=0.346, total=   0.0s\n",
      "[CV] n_neighbors=42 ..................................................\n",
      "[CV] ...................... n_neighbors=42, score=0.119, total=   0.0s\n",
      "[CV] n_neighbors=42 ..................................................\n",
      "[CV] ...................... n_neighbors=42, score=0.030, total=   0.0s\n",
      "[CV] n_neighbors=42 ..................................................\n",
      "[CV] ...................... n_neighbors=42, score=0.243, total=   0.0s\n",
      "[CV] n_neighbors=43 ..................................................\n",
      "[CV] ...................... n_neighbors=43, score=0.009, total=   0.0s\n",
      "[CV] n_neighbors=43 ..................................................\n",
      "[CV] ...................... n_neighbors=43, score=0.329, total=   0.0s\n",
      "[CV] n_neighbors=43 ..................................................\n",
      "[CV] ...................... n_neighbors=43, score=0.114, total=   0.0s\n",
      "[CV] n_neighbors=43 ..................................................\n",
      "[CV] ...................... n_neighbors=43, score=0.028, total=   0.0s\n",
      "[CV] n_neighbors=43 ..................................................\n",
      "[CV] ...................... n_neighbors=43, score=0.235, total=   0.0s\n",
      "[CV] n_neighbors=44 ..................................................\n",
      "[CV] ...................... n_neighbors=44, score=0.008, total=   0.0s\n",
      "[CV] n_neighbors=44 ..................................................\n",
      "[CV] ...................... n_neighbors=44, score=0.323, total=   0.0s\n",
      "[CV] n_neighbors=44 ..................................................\n",
      "[CV] ...................... n_neighbors=44, score=0.109, total=   0.0s\n",
      "[CV] n_neighbors=44 ..................................................\n",
      "[CV] ...................... n_neighbors=44, score=0.027, total=   0.0s\n",
      "[CV] n_neighbors=44 ..................................................\n",
      "[CV] ...................... n_neighbors=44, score=0.227, total=   0.0s\n",
      "[CV] n_neighbors=45 ..................................................\n",
      "[CV] ...................... n_neighbors=45, score=0.006, total=   0.0s\n",
      "[CV] n_neighbors=45 ..................................................\n",
      "[CV] ...................... n_neighbors=45, score=0.316, total=   0.0s\n",
      "[CV] n_neighbors=45 ..................................................\n",
      "[CV] ...................... n_neighbors=45, score=0.111, total=   0.0s\n",
      "[CV] n_neighbors=45 ..................................................\n",
      "[CV] ...................... n_neighbors=45, score=0.025, total=   0.0s\n",
      "[CV] n_neighbors=45 ..................................................\n",
      "[CV] ...................... n_neighbors=45, score=0.221, total=   0.0s\n",
      "[CV] n_neighbors=46 ..................................................\n",
      "[CV] ...................... n_neighbors=46, score=0.004, total=   0.0s\n",
      "[CV] n_neighbors=46 ..................................................\n",
      "[CV] ...................... n_neighbors=46, score=0.311, total=   0.0s\n",
      "[CV] n_neighbors=46 ..................................................\n",
      "[CV] ...................... n_neighbors=46, score=0.107, total=   0.0s\n",
      "[CV] n_neighbors=46 ..................................................\n",
      "[CV] ...................... n_neighbors=46, score=0.024, total=   0.0s\n",
      "[CV] n_neighbors=46 ..................................................\n"
     ]
    },
    {
     "name": "stdout",
     "output_type": "stream",
     "text": [
      "[CV] ...................... n_neighbors=46, score=0.214, total=   0.0s\n",
      "[CV] n_neighbors=47 ..................................................\n",
      "[CV] ...................... n_neighbors=47, score=0.003, total=   0.0s\n",
      "[CV] n_neighbors=47 ..................................................\n",
      "[CV] ...................... n_neighbors=47, score=0.303, total=   0.0s\n",
      "[CV] n_neighbors=47 ..................................................\n",
      "[CV] ...................... n_neighbors=47, score=0.103, total=   0.0s\n",
      "[CV] n_neighbors=47 ..................................................\n",
      "[CV] ...................... n_neighbors=47, score=0.022, total=   0.0s\n",
      "[CV] n_neighbors=47 ..................................................\n",
      "[CV] ...................... n_neighbors=47, score=0.208, total=   0.0s\n",
      "[CV] n_neighbors=48 ..................................................\n",
      "[CV] ...................... n_neighbors=48, score=0.001, total=   0.0s\n",
      "[CV] n_neighbors=48 ..................................................\n",
      "[CV] ...................... n_neighbors=48, score=0.302, total=   0.0s\n",
      "[CV] n_neighbors=48 ..................................................\n",
      "[CV] ...................... n_neighbors=48, score=0.100, total=   0.0s\n",
      "[CV] n_neighbors=48 ..................................................\n",
      "[CV] ...................... n_neighbors=48, score=0.021, total=   0.0s\n",
      "[CV] n_neighbors=48 ..................................................\n",
      "[CV] ...................... n_neighbors=48, score=0.202, total=   0.0s\n",
      "[CV] n_neighbors=49 ..................................................\n",
      "[CV] ..................... n_neighbors=49, score=-0.001, total=   0.0s\n",
      "[CV] n_neighbors=49 ..................................................\n",
      "[CV] ...................... n_neighbors=49, score=0.304, total=   0.0s\n",
      "[CV] n_neighbors=49 ..................................................\n",
      "[CV] ...................... n_neighbors=49, score=0.097, total=   0.0s\n",
      "[CV] n_neighbors=49 ..................................................\n",
      "[CV] ...................... n_neighbors=49, score=0.019, total=   0.0s\n",
      "[CV] n_neighbors=49 ..................................................\n",
      "[CV] ...................... n_neighbors=49, score=0.196, total=   0.0s\n"
     ]
    },
    {
     "name": "stderr",
     "output_type": "stream",
     "text": [
      "[Parallel(n_jobs=1)]: Done 245 out of 245 | elapsed:    2.1s finished\n"
     ]
    },
    {
     "data": {
      "text/plain": [
       "GridSearchCV(estimator=KNeighborsRegressor(),\n",
       "             param_grid={'n_neighbors': [1, 2, 3, 4, 5, 6, 7, 8, 9, 10, 11, 12,\n",
       "                                         13, 14, 15, 16, 17, 18, 19, 20, 21, 22,\n",
       "                                         23, 24, 25, 26, 27, 28, 29, 30, ...]},\n",
       "             verbose=3)"
      ]
     },
     "execution_count": 1284,
     "metadata": {},
     "output_type": "execute_result"
    }
   ],
   "source": [
    "from sklearn.model_selection import GridSearchCV\n",
    "param_grid = {'n_neighbors':list(range(1,50))}\n",
    "grid = GridSearchCV(KNeighborsRegressor(), param_grid, verbose=3)\n",
    "grid.fit(x_train, y_train)"
   ]
  },
  {
   "cell_type": "code",
   "execution_count": 1285,
   "metadata": {},
   "outputs": [
    {
     "data": {
      "text/plain": [
       "{'n_neighbors': 4}"
      ]
     },
     "execution_count": 1285,
     "metadata": {},
     "output_type": "execute_result"
    }
   ],
   "source": [
    "grid.best_params_"
   ]
  },
  {
   "cell_type": "code",
   "execution_count": 1286,
   "metadata": {},
   "outputs": [],
   "source": [
    "grid_predictions = grid.best_estimator_.predict(x_test)"
   ]
  },
  {
   "cell_type": "code",
   "execution_count": 1287,
   "metadata": {},
   "outputs": [
    {
     "name": "stdout",
     "output_type": "stream",
     "text": [
      "Mean Absolute Error (MAE): 24447.0\n",
      "Mean Squared Error (MSE): 1821658621.1845238\n",
      "Root Mean Squared Error (RMSE): 42680.892928622336\n"
     ]
    }
   ],
   "source": [
    "print('Mean Absolute Error (MAE):', metrics.mean_absolute_error(y_test, grid_predictions))  \n",
    "print('Mean Squared Error (MSE):', metrics.mean_squared_error(y_test, grid_predictions))  \n",
    "print('Root Mean Squared Error (RMSE):', np.sqrt(metrics.mean_squared_error(y_test, grid_predictions)))"
   ]
  },
  {
   "cell_type": "markdown",
   "metadata": {},
   "source": [
    "# Linear Regression Model"
   ]
  },
  {
   "cell_type": "code",
   "execution_count": 1288,
   "metadata": {},
   "outputs": [],
   "source": [
    "from sklearn.linear_model import LinearRegression"
   ]
  },
  {
   "cell_type": "code",
   "execution_count": 1289,
   "metadata": {},
   "outputs": [],
   "source": [
    "lm = LinearRegression()"
   ]
  },
  {
   "cell_type": "code",
   "execution_count": 1290,
   "metadata": {},
   "outputs": [
    {
     "data": {
      "text/plain": [
       "LinearRegression()"
      ]
     },
     "execution_count": 1290,
     "metadata": {},
     "output_type": "execute_result"
    }
   ],
   "source": [
    "lm.fit(x_train, y_train)"
   ]
  },
  {
   "cell_type": "code",
   "execution_count": 1291,
   "metadata": {},
   "outputs": [
    {
     "name": "stdout",
     "output_type": "stream",
     "text": [
      "Intercept:  96023.34939759035\n"
     ]
    }
   ],
   "source": [
    "print('Intercept: ',lm.intercept_)"
   ]
  },
  {
   "cell_type": "code",
   "execution_count": 1292,
   "metadata": {},
   "outputs": [
    {
     "data": {
      "text/html": [
       "<div>\n",
       "<style scoped>\n",
       "    .dataframe tbody tr th:only-of-type {\n",
       "        vertical-align: middle;\n",
       "    }\n",
       "\n",
       "    .dataframe tbody tr th {\n",
       "        vertical-align: top;\n",
       "    }\n",
       "\n",
       "    .dataframe thead th {\n",
       "        text-align: right;\n",
       "    }\n",
       "</style>\n",
       "<table border=\"1\" class=\"dataframe\">\n",
       "  <thead>\n",
       "    <tr style=\"text-align: right;\">\n",
       "      <th></th>\n",
       "      <th>Coefficient</th>\n",
       "    </tr>\n",
       "  </thead>\n",
       "  <tbody>\n",
       "    <tr>\n",
       "      <th>Population</th>\n",
       "      <td>-2439.423493</td>\n",
       "    </tr>\n",
       "    <tr>\n",
       "      <th>TotalDeaths</th>\n",
       "      <td>135384.156051</td>\n",
       "    </tr>\n",
       "    <tr>\n",
       "      <th>TotalRecovered</th>\n",
       "      <td>-20933.542712</td>\n",
       "    </tr>\n",
       "    <tr>\n",
       "      <th>ActiveCases</th>\n",
       "      <td>87749.142888</td>\n",
       "    </tr>\n",
       "    <tr>\n",
       "      <th>Serious,Critical</th>\n",
       "      <td>3069.291589</td>\n",
       "    </tr>\n",
       "    <tr>\n",
       "      <th>...</th>\n",
       "      <td>...</td>\n",
       "    </tr>\n",
       "    <tr>\n",
       "      <th>Asia</th>\n",
       "      <td>-16319.578715</td>\n",
       "    </tr>\n",
       "    <tr>\n",
       "      <th>Australia/Oceania</th>\n",
       "      <td>1166.458523</td>\n",
       "    </tr>\n",
       "    <tr>\n",
       "      <th>Europe</th>\n",
       "      <td>-4172.289877</td>\n",
       "    </tr>\n",
       "    <tr>\n",
       "      <th>North America</th>\n",
       "      <td>18121.912432</td>\n",
       "    </tr>\n",
       "    <tr>\n",
       "      <th>South America</th>\n",
       "      <td>22224.137668</td>\n",
       "    </tr>\n",
       "  </tbody>\n",
       "</table>\n",
       "<p>221 rows × 1 columns</p>\n",
       "</div>"
      ],
      "text/plain": [
       "                     Coefficient\n",
       "Population          -2439.423493\n",
       "TotalDeaths        135384.156051\n",
       "TotalRecovered     -20933.542712\n",
       "ActiveCases         87749.142888\n",
       "Serious,Critical     3069.291589\n",
       "...                          ...\n",
       "Asia               -16319.578715\n",
       "Australia/Oceania    1166.458523\n",
       "Europe              -4172.289877\n",
       "North America       18121.912432\n",
       "South America       22224.137668\n",
       "\n",
       "[221 rows x 1 columns]"
      ]
     },
     "execution_count": 1292,
     "metadata": {},
     "output_type": "execute_result"
    }
   ],
   "source": [
    "coeff_df = pd.DataFrame(lm.coef_,x.columns,columns=['Coefficient'])\n",
    "coeff_df"
   ]
  },
  {
   "cell_type": "code",
   "execution_count": 1293,
   "metadata": {},
   "outputs": [],
   "source": [
    "predictions = lm.predict(x_test)"
   ]
  },
  {
   "cell_type": "code",
   "execution_count": 1294,
   "metadata": {},
   "outputs": [
    {
     "data": {
      "text/plain": [
       "<matplotlib.axes._subplots.AxesSubplot at 0x29bcd8cb0d0>"
      ]
     },
     "execution_count": 1294,
     "metadata": {},
     "output_type": "execute_result"
    },
    {
     "data": {
      "image/png": "[encoded data removed]",
      "text/plain": [
       "<Figure size 432x288 with 1 Axes>"
      ]
     },
     "metadata": {
      "needs_background": "light"
     },
     "output_type": "display_data"
    }
   ],
   "source": [
    "sns.distplot((y_test-predictions),bins=7)"
   ]
  },
  {
   "cell_type": "markdown",
   "metadata": {},
   "source": [
    "This distribution plot shows data tends towards normalcy"
   ]
  },
  {
   "cell_type": "code",
   "execution_count": 1295,
   "metadata": {},
   "outputs": [],
   "source": [
    "from sklearn import metrics"
   ]
  },
  {
   "cell_type": "code",
   "execution_count": 1296,
   "metadata": {},
   "outputs": [
    {
     "name": "stdout",
     "output_type": "stream",
     "text": [
      "Mean Absolute Error (MAE): 94380.54541238843\n",
      "Mean Squared Error (MSE): 37312183591.34611\n",
      "Root Mean Squared Error (RMSE): 193163.6187053507\n"
     ]
    }
   ],
   "source": [
    "print('Mean Absolute Error (MAE):', metrics.mean_absolute_error(y_test, predictions))  \n",
    "print('Mean Squared Error (MSE):', metrics.mean_squared_error(y_test, predictions))  \n",
    "print('Root Mean Squared Error (RMSE):', np.sqrt(metrics.mean_squared_error(y_test, predictions)))\n"
   ]
  },
  {
   "cell_type": "code",
   "execution_count": null,
   "metadata": {},
   "outputs": [],
   "source": []
  }
 ],
 "metadata": {
  "kernelspec": {
   "display_name": "Python 3",
   "language": "python",
   "name": "python3"
  },
  "language_info": {
   "codemirror_mode": {
    "name": "ipython",
    "version": 3
   },
   "file_extension": ".py",
   "mimetype": "text/x-python",
   "name": "python",
   "nbconvert_exporter": "python",
   "pygments_lexer": "ipython3",
   "version": "3.8.3"
  }
 },
 "nbformat": 4,
 "nbformat_minor": 4
}
